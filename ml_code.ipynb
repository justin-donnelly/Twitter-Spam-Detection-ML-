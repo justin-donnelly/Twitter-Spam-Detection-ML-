{
 "cells": [
  {
   "cell_type": "code",
   "execution_count": 18,
   "metadata": {},
   "outputs": [],
   "source": [
    "import pandas as pd\n",
    "import matplotlib.pyplot as plt\n",
    "import numpy as np\n",
    "from sklearn.model_selection import train_test_split\n",
    "from sklearn.compose import make_column_transformer\n",
    "from sklearn.preprocessing import MinMaxScaler, OneHotEncoder\n",
    "import seaborn as sns"
   ]
  },
  {
   "cell_type": "code",
   "execution_count": 2,
   "metadata": {},
   "outputs": [],
   "source": [
    "df = pd.read_csv('./Resources/twitter_replies_data.csv')"
   ]
  },
  {
   "cell_type": "code",
   "execution_count": 4,
   "metadata": {},
   "outputs": [
    {
     "data": {
      "text/plain": [
       "Index(['Unnamed: 0', 'screen_name', 'followers', 'following', 'verified',\n",
       "       'tweet_count', 'default_prof_img', 'user_mentions', 'linked_urls',\n",
       "       'has_#', 'time_to_respond_minutes', 'account_age_days',\n",
       "       'follwers_to_following_ratio', 'avg_tweets_per_day', 'clean_text',\n",
       "       'is_bot?'],\n",
       "      dtype='object')"
      ]
     },
     "execution_count": 4,
     "metadata": {},
     "output_type": "execute_result"
    }
   ],
   "source": [
    "df.columns"
   ]
  },
  {
   "cell_type": "code",
   "execution_count": 23,
   "metadata": {},
   "outputs": [],
   "source": [
    "cols = ['user_mentions','linked_urls','has_#']"
   ]
  },
  {
   "cell_type": "code",
   "execution_count": 8,
   "metadata": {},
   "outputs": [
    {
     "data": {
      "text/html": [
       "<div>\n",
       "<style scoped>\n",
       "    .dataframe tbody tr th:only-of-type {\n",
       "        vertical-align: middle;\n",
       "    }\n",
       "\n",
       "    .dataframe tbody tr th {\n",
       "        vertical-align: top;\n",
       "    }\n",
       "\n",
       "    .dataframe thead th {\n",
       "        text-align: right;\n",
       "    }\n",
       "</style>\n",
       "<table border=\"1\" class=\"dataframe\">\n",
       "  <thead>\n",
       "    <tr style=\"text-align: right;\">\n",
       "      <th></th>\n",
       "      <th>screen_name</th>\n",
       "      <th>followers</th>\n",
       "      <th>following</th>\n",
       "      <th>verified</th>\n",
       "      <th>tweet_count</th>\n",
       "      <th>default_prof_img</th>\n",
       "      <th>user_mentions</th>\n",
       "      <th>linked_urls</th>\n",
       "      <th>has_#</th>\n",
       "      <th>time_to_respond_minutes</th>\n",
       "      <th>account_age_days</th>\n",
       "      <th>follwers_to_following_ratio</th>\n",
       "      <th>avg_tweets_per_day</th>\n",
       "      <th>clean_text</th>\n",
       "      <th>is_bot?</th>\n",
       "    </tr>\n",
       "  </thead>\n",
       "  <tbody>\n",
       "    <tr>\n",
       "      <th>0</th>\n",
       "      <td>itsjohnnytrades</td>\n",
       "      <td>462</td>\n",
       "      <td>73</td>\n",
       "      <td>False</td>\n",
       "      <td>545</td>\n",
       "      <td>False</td>\n",
       "      <td>1</td>\n",
       "      <td>0</td>\n",
       "      <td>no</td>\n",
       "      <td>100</td>\n",
       "      <td>1152</td>\n",
       "      <td>6.33</td>\n",
       "      <td>0.47</td>\n",
       "      <td>big crypto accounts starting to look for bear...</td>\n",
       "      <td>0</td>\n",
       "    </tr>\n",
       "    <tr>\n",
       "      <th>1</th>\n",
       "      <td>aicryptotrade1</td>\n",
       "      <td>171</td>\n",
       "      <td>87</td>\n",
       "      <td>False</td>\n",
       "      <td>848</td>\n",
       "      <td>False</td>\n",
       "      <td>1</td>\n",
       "      <td>0</td>\n",
       "      <td>no</td>\n",
       "      <td>76</td>\n",
       "      <td>50</td>\n",
       "      <td>1.97</td>\n",
       "      <td>16.96</td>\n",
       "      <td>first 28 2k then 29k then 32k this is the roa...</td>\n",
       "      <td>0</td>\n",
       "    </tr>\n",
       "    <tr>\n",
       "      <th>2</th>\n",
       "      <td>___reivax___</td>\n",
       "      <td>131</td>\n",
       "      <td>296</td>\n",
       "      <td>False</td>\n",
       "      <td>862</td>\n",
       "      <td>False</td>\n",
       "      <td>1</td>\n",
       "      <td>0</td>\n",
       "      <td>no</td>\n",
       "      <td>60</td>\n",
       "      <td>2448</td>\n",
       "      <td>0.44</td>\n",
       "      <td>0.35</td>\n",
       "      <td>this looks like a beautiful bob ross painting</td>\n",
       "      <td>0</td>\n",
       "    </tr>\n",
       "    <tr>\n",
       "      <th>3</th>\n",
       "      <td>Horstvault</td>\n",
       "      <td>2782</td>\n",
       "      <td>63</td>\n",
       "      <td>False</td>\n",
       "      <td>3748</td>\n",
       "      <td>False</td>\n",
       "      <td>1</td>\n",
       "      <td>0</td>\n",
       "      <td>no</td>\n",
       "      <td>53</td>\n",
       "      <td>816</td>\n",
       "      <td>44.16</td>\n",
       "      <td>4.59</td>\n",
       "      <td>his do you get a chart that shows you the rea...</td>\n",
       "      <td>0</td>\n",
       "    </tr>\n",
       "    <tr>\n",
       "      <th>4</th>\n",
       "      <td>keshvism</td>\n",
       "      <td>142</td>\n",
       "      <td>1855</td>\n",
       "      <td>False</td>\n",
       "      <td>874</td>\n",
       "      <td>False</td>\n",
       "      <td>1</td>\n",
       "      <td>0</td>\n",
       "      <td>no</td>\n",
       "      <td>49</td>\n",
       "      <td>1324</td>\n",
       "      <td>0.08</td>\n",
       "      <td>0.66</td>\n",
       "      <td>forget price action for 2 mins  this chart in...</td>\n",
       "      <td>0</td>\n",
       "    </tr>\n",
       "  </tbody>\n",
       "</table>\n",
       "</div>"
      ],
      "text/plain": [
       "       screen_name  followers  following  verified  tweet_count  \\\n",
       "0  itsjohnnytrades        462         73     False          545   \n",
       "1   aicryptotrade1        171         87     False          848   \n",
       "2     ___reivax___        131        296     False          862   \n",
       "3       Horstvault       2782         63     False         3748   \n",
       "4         keshvism        142       1855     False          874   \n",
       "\n",
       "   default_prof_img  user_mentions  linked_urls has_#  \\\n",
       "0             False              1            0    no   \n",
       "1             False              1            0    no   \n",
       "2             False              1            0    no   \n",
       "3             False              1            0    no   \n",
       "4             False              1            0    no   \n",
       "\n",
       "   time_to_respond_minutes  account_age_days  follwers_to_following_ratio  \\\n",
       "0                      100              1152                         6.33   \n",
       "1                       76                50                         1.97   \n",
       "2                       60              2448                         0.44   \n",
       "3                       53               816                        44.16   \n",
       "4                       49              1324                         0.08   \n",
       "\n",
       "   avg_tweets_per_day                                         clean_text  \\\n",
       "0                0.47   big crypto accounts starting to look for bear...   \n",
       "1               16.96   first 28 2k then 29k then 32k this is the roa...   \n",
       "2                0.35      this looks like a beautiful bob ross painting   \n",
       "3                4.59   his do you get a chart that shows you the rea...   \n",
       "4                0.66   forget price action for 2 mins  this chart in...   \n",
       "\n",
       "   is_bot?  \n",
       "0        0  \n",
       "1        0  \n",
       "2        0  \n",
       "3        0  \n",
       "4        0  "
      ]
     },
     "execution_count": 8,
     "metadata": {},
     "output_type": "execute_result"
    }
   ],
   "source": [
    "df=df.drop(columns=['Unnamed: 0'])\n",
    "df.head()"
   ]
  },
  {
   "cell_type": "code",
   "execution_count": 9,
   "metadata": {},
   "outputs": [
    {
     "data": {
      "text/html": [
       "<div>\n",
       "<style scoped>\n",
       "    .dataframe tbody tr th:only-of-type {\n",
       "        vertical-align: middle;\n",
       "    }\n",
       "\n",
       "    .dataframe tbody tr th {\n",
       "        vertical-align: top;\n",
       "    }\n",
       "\n",
       "    .dataframe thead th {\n",
       "        text-align: right;\n",
       "    }\n",
       "</style>\n",
       "<table border=\"1\" class=\"dataframe\">\n",
       "  <thead>\n",
       "    <tr style=\"text-align: right;\">\n",
       "      <th></th>\n",
       "      <th>followers</th>\n",
       "      <th>following</th>\n",
       "      <th>tweet_count</th>\n",
       "      <th>user_mentions</th>\n",
       "      <th>linked_urls</th>\n",
       "      <th>time_to_respond_minutes</th>\n",
       "      <th>account_age_days</th>\n",
       "      <th>follwers_to_following_ratio</th>\n",
       "      <th>avg_tweets_per_day</th>\n",
       "      <th>is_bot?</th>\n",
       "    </tr>\n",
       "  </thead>\n",
       "  <tbody>\n",
       "    <tr>\n",
       "      <th>count</th>\n",
       "      <td>202.000000</td>\n",
       "      <td>202.000000</td>\n",
       "      <td>202.000000</td>\n",
       "      <td>202.000000</td>\n",
       "      <td>202.000000</td>\n",
       "      <td>202.000000</td>\n",
       "      <td>202.000000</td>\n",
       "      <td>202.000000</td>\n",
       "      <td>202.000000</td>\n",
       "      <td>202.000000</td>\n",
       "    </tr>\n",
       "    <tr>\n",
       "      <th>mean</th>\n",
       "      <td>6233.678218</td>\n",
       "      <td>690.034653</td>\n",
       "      <td>6422.123762</td>\n",
       "      <td>1.237624</td>\n",
       "      <td>0.054455</td>\n",
       "      <td>93.128713</td>\n",
       "      <td>1732.000000</td>\n",
       "      <td>11.974455</td>\n",
       "      <td>12.116634</td>\n",
       "      <td>0.207921</td>\n",
       "    </tr>\n",
       "    <tr>\n",
       "      <th>std</th>\n",
       "      <td>29563.316244</td>\n",
       "      <td>882.130401</td>\n",
       "      <td>11532.244782</td>\n",
       "      <td>0.530625</td>\n",
       "      <td>0.227478</td>\n",
       "      <td>543.264788</td>\n",
       "      <td>1565.010794</td>\n",
       "      <td>77.472044</td>\n",
       "      <td>34.903065</td>\n",
       "      <td>0.406828</td>\n",
       "    </tr>\n",
       "    <tr>\n",
       "      <th>min</th>\n",
       "      <td>0.000000</td>\n",
       "      <td>0.000000</td>\n",
       "      <td>4.000000</td>\n",
       "      <td>0.000000</td>\n",
       "      <td>0.000000</td>\n",
       "      <td>-13.000000</td>\n",
       "      <td>3.000000</td>\n",
       "      <td>0.000000</td>\n",
       "      <td>0.010000</td>\n",
       "      <td>0.000000</td>\n",
       "    </tr>\n",
       "    <tr>\n",
       "      <th>25%</th>\n",
       "      <td>74.750000</td>\n",
       "      <td>152.000000</td>\n",
       "      <td>754.500000</td>\n",
       "      <td>1.000000</td>\n",
       "      <td>0.000000</td>\n",
       "      <td>1.000000</td>\n",
       "      <td>517.250000</td>\n",
       "      <td>0.240000</td>\n",
       "      <td>0.702500</td>\n",
       "      <td>0.000000</td>\n",
       "    </tr>\n",
       "    <tr>\n",
       "      <th>50%</th>\n",
       "      <td>190.500000</td>\n",
       "      <td>301.000000</td>\n",
       "      <td>2143.000000</td>\n",
       "      <td>1.000000</td>\n",
       "      <td>0.000000</td>\n",
       "      <td>3.000000</td>\n",
       "      <td>1051.000000</td>\n",
       "      <td>0.675000</td>\n",
       "      <td>2.315000</td>\n",
       "      <td>0.000000</td>\n",
       "    </tr>\n",
       "    <tr>\n",
       "      <th>75%</th>\n",
       "      <td>893.000000</td>\n",
       "      <td>975.500000</td>\n",
       "      <td>6184.750000</td>\n",
       "      <td>1.000000</td>\n",
       "      <td>0.000000</td>\n",
       "      <td>7.000000</td>\n",
       "      <td>3095.000000</td>\n",
       "      <td>1.960000</td>\n",
       "      <td>9.480000</td>\n",
       "      <td>0.000000</td>\n",
       "    </tr>\n",
       "    <tr>\n",
       "      <th>max</th>\n",
       "      <td>289250.000000</td>\n",
       "      <td>4990.000000</td>\n",
       "      <td>88975.000000</td>\n",
       "      <td>3.000000</td>\n",
       "      <td>1.000000</td>\n",
       "      <td>5209.000000</td>\n",
       "      <td>5513.000000</td>\n",
       "      <td>1014.910000</td>\n",
       "      <td>389.000000</td>\n",
       "      <td>1.000000</td>\n",
       "    </tr>\n",
       "  </tbody>\n",
       "</table>\n",
       "</div>"
      ],
      "text/plain": [
       "           followers    following   tweet_count  user_mentions  linked_urls  \\\n",
       "count     202.000000   202.000000    202.000000     202.000000   202.000000   \n",
       "mean     6233.678218   690.034653   6422.123762       1.237624     0.054455   \n",
       "std     29563.316244   882.130401  11532.244782       0.530625     0.227478   \n",
       "min         0.000000     0.000000      4.000000       0.000000     0.000000   \n",
       "25%        74.750000   152.000000    754.500000       1.000000     0.000000   \n",
       "50%       190.500000   301.000000   2143.000000       1.000000     0.000000   \n",
       "75%       893.000000   975.500000   6184.750000       1.000000     0.000000   \n",
       "max    289250.000000  4990.000000  88975.000000       3.000000     1.000000   \n",
       "\n",
       "       time_to_respond_minutes  account_age_days  follwers_to_following_ratio  \\\n",
       "count               202.000000        202.000000                   202.000000   \n",
       "mean                 93.128713       1732.000000                    11.974455   \n",
       "std                 543.264788       1565.010794                    77.472044   \n",
       "min                 -13.000000          3.000000                     0.000000   \n",
       "25%                   1.000000        517.250000                     0.240000   \n",
       "50%                   3.000000       1051.000000                     0.675000   \n",
       "75%                   7.000000       3095.000000                     1.960000   \n",
       "max                5209.000000       5513.000000                  1014.910000   \n",
       "\n",
       "       avg_tweets_per_day     is_bot?  \n",
       "count          202.000000  202.000000  \n",
       "mean            12.116634    0.207921  \n",
       "std             34.903065    0.406828  \n",
       "min              0.010000    0.000000  \n",
       "25%              0.702500    0.000000  \n",
       "50%              2.315000    0.000000  \n",
       "75%              9.480000    0.000000  \n",
       "max            389.000000    1.000000  "
      ]
     },
     "execution_count": 9,
     "metadata": {},
     "output_type": "execute_result"
    }
   ],
   "source": [
    "df.describe()"
   ]
  },
  {
   "cell_type": "code",
   "execution_count": 11,
   "metadata": {},
   "outputs": [
    {
     "data": {
      "text/plain": [
       "0    160\n",
       "1     42\n",
       "Name: is_bot?, dtype: int64"
      ]
     },
     "execution_count": 11,
     "metadata": {},
     "output_type": "execute_result"
    }
   ],
   "source": [
    "df['is_bot?'].value_counts()"
   ]
  },
  {
   "cell_type": "code",
   "execution_count": 16,
   "metadata": {},
   "outputs": [
    {
     "data": {
      "text/plain": [
       "202"
      ]
     },
     "execution_count": 16,
     "metadata": {},
     "output_type": "execute_result"
    }
   ],
   "source": [
    "len(df)"
   ]
  },
  {
   "cell_type": "code",
   "execution_count": 17,
   "metadata": {},
   "outputs": [
    {
     "data": {
      "text/plain": [
       "182"
      ]
     },
     "execution_count": 17,
     "metadata": {},
     "output_type": "execute_result"
    }
   ],
   "source": [
    "df = df.dropna()\n",
    "len(df)"
   ]
  },
  {
   "cell_type": "code",
   "execution_count": 25,
   "metadata": {},
   "outputs": [
    {
     "name": "stdout",
     "output_type": "stream",
     "text": [
      "Count plot for ' user_mentions ' feature, based on Spam/ Ham tweet label\n"
     ]
    },
    {
     "name": "stderr",
     "output_type": "stream",
     "text": [
      "c:\\Users\\Justin\\anaconda3\\envs\\dev\\lib\\site-packages\\seaborn\\_decorators.py:43: FutureWarning: Pass the following variable as a keyword arg: x. From version 0.12, the only valid positional argument will be `data`, and passing other arguments without an explicit keyword will result in an error or misinterpretation.\n",
      "  FutureWarning\n"
     ]
    },
    {
     "data": {
      "image/png": "[encoded data removed]",
      "text/plain": [
       "<Figure size 864x576 with 1 Axes>"
      ]
     },
     "metadata": {
      "needs_background": "light"
     },
     "output_type": "display_data"
    },
    {
     "name": "stdout",
     "output_type": "stream",
     "text": [
      "Count plot for ' linked_urls ' feature, based on Spam/ Ham tweet label\n"
     ]
    },
    {
     "name": "stderr",
     "output_type": "stream",
     "text": [
      "c:\\Users\\Justin\\anaconda3\\envs\\dev\\lib\\site-packages\\seaborn\\_decorators.py:43: FutureWarning: Pass the following variable as a keyword arg: x. From version 0.12, the only valid positional argument will be `data`, and passing other arguments without an explicit keyword will result in an error or misinterpretation.\n",
      "  FutureWarning\n"
     ]
    },
    {
     "data": {
      "image/png": "[encoded data removed]",
      "text/plain": [
       "<Figure size 864x576 with 1 Axes>"
      ]
     },
     "metadata": {
      "needs_background": "light"
     },
     "output_type": "display_data"
    },
    {
     "name": "stdout",
     "output_type": "stream",
     "text": [
      "Count plot for ' has_# ' feature, based on Spam/ Ham tweet label\n"
     ]
    },
    {
     "name": "stderr",
     "output_type": "stream",
     "text": [
      "c:\\Users\\Justin\\anaconda3\\envs\\dev\\lib\\site-packages\\seaborn\\_decorators.py:43: FutureWarning: Pass the following variable as a keyword arg: x. From version 0.12, the only valid positional argument will be `data`, and passing other arguments without an explicit keyword will result in an error or misinterpretation.\n",
      "  FutureWarning\n"
     ]
    },
    {
     "data": {
      "image/png": "[encoded data removed]",
      "text/plain": [
       "<Figure size 864x576 with 1 Axes>"
      ]
     },
     "metadata": {
      "needs_background": "light"
     },
     "output_type": "display_data"
    }
   ],
   "source": [
    "for i in range(0,len(cols)):\n",
    "    plt.figure(figsize=(12,8))\n",
    "    c = cols[i]\n",
    "    print(\"Count plot for\",\"'\",cols[i],\"' feature, based on Spam/ Ham tweet label\")\n",
    "    sns.countplot(c, hue=df['is_bot?'],data =df)\n",
    "    plt.show()"
   ]
  },
  {
   "cell_type": "code",
   "execution_count": 26,
   "metadata": {},
   "outputs": [
    {
     "data": {
      "text/html": [
       "<div>\n",
       "<style scoped>\n",
       "    .dataframe tbody tr th:only-of-type {\n",
       "        vertical-align: middle;\n",
       "    }\n",
       "\n",
       "    .dataframe tbody tr th {\n",
       "        vertical-align: top;\n",
       "    }\n",
       "\n",
       "    .dataframe thead th {\n",
       "        text-align: right;\n",
       "    }\n",
       "</style>\n",
       "<table border=\"1\" class=\"dataframe\">\n",
       "  <thead>\n",
       "    <tr style=\"text-align: right;\">\n",
       "      <th></th>\n",
       "      <th>screen_name</th>\n",
       "      <th>followers</th>\n",
       "      <th>following</th>\n",
       "      <th>verified</th>\n",
       "      <th>tweet_count</th>\n",
       "      <th>default_prof_img</th>\n",
       "      <th>user_mentions</th>\n",
       "      <th>linked_urls</th>\n",
       "      <th>has_#</th>\n",
       "      <th>time_to_respond_minutes</th>\n",
       "      <th>account_age_days</th>\n",
       "      <th>follwers_to_following_ratio</th>\n",
       "      <th>avg_tweets_per_day</th>\n",
       "      <th>clean_text</th>\n",
       "      <th>is_bot?</th>\n",
       "    </tr>\n",
       "  </thead>\n",
       "  <tbody>\n",
       "    <tr>\n",
       "      <th>0</th>\n",
       "      <td>itsjohnnytrades</td>\n",
       "      <td>462</td>\n",
       "      <td>73</td>\n",
       "      <td>False</td>\n",
       "      <td>545</td>\n",
       "      <td>False</td>\n",
       "      <td>1</td>\n",
       "      <td>0</td>\n",
       "      <td>no</td>\n",
       "      <td>100</td>\n",
       "      <td>1152</td>\n",
       "      <td>6.33</td>\n",
       "      <td>0.47</td>\n",
       "      <td>big crypto accounts starting to look for bear...</td>\n",
       "      <td>0</td>\n",
       "    </tr>\n",
       "    <tr>\n",
       "      <th>1</th>\n",
       "      <td>aicryptotrade1</td>\n",
       "      <td>171</td>\n",
       "      <td>87</td>\n",
       "      <td>False</td>\n",
       "      <td>848</td>\n",
       "      <td>False</td>\n",
       "      <td>1</td>\n",
       "      <td>0</td>\n",
       "      <td>no</td>\n",
       "      <td>76</td>\n",
       "      <td>50</td>\n",
       "      <td>1.97</td>\n",
       "      <td>16.96</td>\n",
       "      <td>first 28 2k then 29k then 32k this is the roa...</td>\n",
       "      <td>0</td>\n",
       "    </tr>\n",
       "    <tr>\n",
       "      <th>2</th>\n",
       "      <td>___reivax___</td>\n",
       "      <td>131</td>\n",
       "      <td>296</td>\n",
       "      <td>False</td>\n",
       "      <td>862</td>\n",
       "      <td>False</td>\n",
       "      <td>1</td>\n",
       "      <td>0</td>\n",
       "      <td>no</td>\n",
       "      <td>60</td>\n",
       "      <td>2448</td>\n",
       "      <td>0.44</td>\n",
       "      <td>0.35</td>\n",
       "      <td>this looks like a beautiful bob ross painting</td>\n",
       "      <td>0</td>\n",
       "    </tr>\n",
       "    <tr>\n",
       "      <th>3</th>\n",
       "      <td>Horstvault</td>\n",
       "      <td>2782</td>\n",
       "      <td>63</td>\n",
       "      <td>False</td>\n",
       "      <td>3748</td>\n",
       "      <td>False</td>\n",
       "      <td>1</td>\n",
       "      <td>0</td>\n",
       "      <td>no</td>\n",
       "      <td>53</td>\n",
       "      <td>816</td>\n",
       "      <td>44.16</td>\n",
       "      <td>4.59</td>\n",
       "      <td>his do you get a chart that shows you the rea...</td>\n",
       "      <td>0</td>\n",
       "    </tr>\n",
       "    <tr>\n",
       "      <th>4</th>\n",
       "      <td>keshvism</td>\n",
       "      <td>142</td>\n",
       "      <td>1855</td>\n",
       "      <td>False</td>\n",
       "      <td>874</td>\n",
       "      <td>False</td>\n",
       "      <td>1</td>\n",
       "      <td>0</td>\n",
       "      <td>no</td>\n",
       "      <td>49</td>\n",
       "      <td>1324</td>\n",
       "      <td>0.08</td>\n",
       "      <td>0.66</td>\n",
       "      <td>forget price action for 2 mins  this chart in...</td>\n",
       "      <td>0</td>\n",
       "    </tr>\n",
       "  </tbody>\n",
       "</table>\n",
       "</div>"
      ],
      "text/plain": [
       "       screen_name  followers  following  verified  tweet_count  \\\n",
       "0  itsjohnnytrades        462         73     False          545   \n",
       "1   aicryptotrade1        171         87     False          848   \n",
       "2     ___reivax___        131        296     False          862   \n",
       "3       Horstvault       2782         63     False         3748   \n",
       "4         keshvism        142       1855     False          874   \n",
       "\n",
       "   default_prof_img  user_mentions  linked_urls has_#  \\\n",
       "0             False              1            0    no   \n",
       "1             False              1            0    no   \n",
       "2             False              1            0    no   \n",
       "3             False              1            0    no   \n",
       "4             False              1            0    no   \n",
       "\n",
       "   time_to_respond_minutes  account_age_days  follwers_to_following_ratio  \\\n",
       "0                      100              1152                         6.33   \n",
       "1                       76                50                         1.97   \n",
       "2                       60              2448                         0.44   \n",
       "3                       53               816                        44.16   \n",
       "4                       49              1324                         0.08   \n",
       "\n",
       "   avg_tweets_per_day                                         clean_text  \\\n",
       "0                0.47   big crypto accounts starting to look for bear...   \n",
       "1               16.96   first 28 2k then 29k then 32k this is the roa...   \n",
       "2                0.35      this looks like a beautiful bob ross painting   \n",
       "3                4.59   his do you get a chart that shows you the rea...   \n",
       "4                0.66   forget price action for 2 mins  this chart in...   \n",
       "\n",
       "   is_bot?  \n",
       "0        0  \n",
       "1        0  \n",
       "2        0  \n",
       "3        0  \n",
       "4        0  "
      ]
     },
     "execution_count": 26,
     "metadata": {},
     "output_type": "execute_result"
    }
   ],
   "source": [
    "df.head()"
   ]
  },
  {
   "cell_type": "code",
   "execution_count": 27,
   "metadata": {},
   "outputs": [
    {
     "data": {
      "text/html": [
       "<div>\n",
       "<style scoped>\n",
       "    .dataframe tbody tr th:only-of-type {\n",
       "        vertical-align: middle;\n",
       "    }\n",
       "\n",
       "    .dataframe tbody tr th {\n",
       "        vertical-align: top;\n",
       "    }\n",
       "\n",
       "    .dataframe thead th {\n",
       "        text-align: right;\n",
       "    }\n",
       "</style>\n",
       "<table border=\"1\" class=\"dataframe\">\n",
       "  <thead>\n",
       "    <tr style=\"text-align: right;\">\n",
       "      <th></th>\n",
       "      <th>followers</th>\n",
       "      <th>following</th>\n",
       "      <th>verified</th>\n",
       "      <th>tweet_count</th>\n",
       "      <th>default_prof_img</th>\n",
       "      <th>user_mentions</th>\n",
       "      <th>linked_urls</th>\n",
       "      <th>has_#</th>\n",
       "      <th>time_to_respond_minutes</th>\n",
       "      <th>account_age_days</th>\n",
       "      <th>follwers_to_following_ratio</th>\n",
       "      <th>avg_tweets_per_day</th>\n",
       "    </tr>\n",
       "  </thead>\n",
       "  <tbody>\n",
       "    <tr>\n",
       "      <th>0</th>\n",
       "      <td>462</td>\n",
       "      <td>73</td>\n",
       "      <td>False</td>\n",
       "      <td>545</td>\n",
       "      <td>False</td>\n",
       "      <td>1</td>\n",
       "      <td>0</td>\n",
       "      <td>no</td>\n",
       "      <td>100</td>\n",
       "      <td>1152</td>\n",
       "      <td>6.33</td>\n",
       "      <td>0.47</td>\n",
       "    </tr>\n",
       "    <tr>\n",
       "      <th>1</th>\n",
       "      <td>171</td>\n",
       "      <td>87</td>\n",
       "      <td>False</td>\n",
       "      <td>848</td>\n",
       "      <td>False</td>\n",
       "      <td>1</td>\n",
       "      <td>0</td>\n",
       "      <td>no</td>\n",
       "      <td>76</td>\n",
       "      <td>50</td>\n",
       "      <td>1.97</td>\n",
       "      <td>16.96</td>\n",
       "    </tr>\n",
       "    <tr>\n",
       "      <th>2</th>\n",
       "      <td>131</td>\n",
       "      <td>296</td>\n",
       "      <td>False</td>\n",
       "      <td>862</td>\n",
       "      <td>False</td>\n",
       "      <td>1</td>\n",
       "      <td>0</td>\n",
       "      <td>no</td>\n",
       "      <td>60</td>\n",
       "      <td>2448</td>\n",
       "      <td>0.44</td>\n",
       "      <td>0.35</td>\n",
       "    </tr>\n",
       "    <tr>\n",
       "      <th>3</th>\n",
       "      <td>2782</td>\n",
       "      <td>63</td>\n",
       "      <td>False</td>\n",
       "      <td>3748</td>\n",
       "      <td>False</td>\n",
       "      <td>1</td>\n",
       "      <td>0</td>\n",
       "      <td>no</td>\n",
       "      <td>53</td>\n",
       "      <td>816</td>\n",
       "      <td>44.16</td>\n",
       "      <td>4.59</td>\n",
       "    </tr>\n",
       "    <tr>\n",
       "      <th>4</th>\n",
       "      <td>142</td>\n",
       "      <td>1855</td>\n",
       "      <td>False</td>\n",
       "      <td>874</td>\n",
       "      <td>False</td>\n",
       "      <td>1</td>\n",
       "      <td>0</td>\n",
       "      <td>no</td>\n",
       "      <td>49</td>\n",
       "      <td>1324</td>\n",
       "      <td>0.08</td>\n",
       "      <td>0.66</td>\n",
       "    </tr>\n",
       "  </tbody>\n",
       "</table>\n",
       "</div>"
      ],
      "text/plain": [
       "   followers  following  verified  tweet_count  default_prof_img  \\\n",
       "0        462         73     False          545             False   \n",
       "1        171         87     False          848             False   \n",
       "2        131        296     False          862             False   \n",
       "3       2782         63     False         3748             False   \n",
       "4        142       1855     False          874             False   \n",
       "\n",
       "   user_mentions  linked_urls has_#  time_to_respond_minutes  \\\n",
       "0              1            0    no                      100   \n",
       "1              1            0    no                       76   \n",
       "2              1            0    no                       60   \n",
       "3              1            0    no                       53   \n",
       "4              1            0    no                       49   \n",
       "\n",
       "   account_age_days  follwers_to_following_ratio  avg_tweets_per_day  \n",
       "0              1152                         6.33                0.47  \n",
       "1                50                         1.97               16.96  \n",
       "2              2448                         0.44                0.35  \n",
       "3               816                        44.16                4.59  \n",
       "4              1324                         0.08                0.66  "
      ]
     },
     "execution_count": 27,
     "metadata": {},
     "output_type": "execute_result"
    }
   ],
   "source": [
    "X = df.drop(columns=['screen_name','clean_text','is_bot?'])\n",
    "X.head()"
   ]
  },
  {
   "cell_type": "code",
   "execution_count": 28,
   "metadata": {},
   "outputs": [],
   "source": [
    "y = df['is_bot?']"
   ]
  },
  {
   "cell_type": "code",
   "execution_count": 29,
   "metadata": {},
   "outputs": [
    {
     "data": {
      "text/plain": [
       "0    0\n",
       "1    0\n",
       "2    0\n",
       "3    0\n",
       "4    0\n",
       "Name: is_bot?, dtype: int64"
      ]
     },
     "execution_count": 29,
     "metadata": {},
     "output_type": "execute_result"
    }
   ],
   "source": [
    "y.head()"
   ]
  },
  {
   "cell_type": "code",
   "execution_count": 31,
   "metadata": {},
   "outputs": [
    {
     "data": {
      "text/plain": [
       "(182, 182)"
      ]
     },
     "execution_count": 31,
     "metadata": {},
     "output_type": "execute_result"
    }
   ],
   "source": [
    "len(X), len(y)"
   ]
  },
  {
   "cell_type": "code",
   "execution_count": 32,
   "metadata": {},
   "outputs": [],
   "source": [
    "X_train,X_test,y_train,y_test = train_test_split(X,y,test_size=.2, random_state=42,shuffle=True)"
   ]
  },
  {
   "cell_type": "code",
   "execution_count": 33,
   "metadata": {},
   "outputs": [
    {
     "data": {
      "text/plain": [
       "(145, 37, 145, 37)"
      ]
     },
     "execution_count": 33,
     "metadata": {},
     "output_type": "execute_result"
    }
   ],
   "source": [
    "len(X_train), len(X_test), len(y_train), len(y_test)"
   ]
  },
  {
   "cell_type": "code",
   "execution_count": 34,
   "metadata": {},
   "outputs": [
    {
     "data": {
      "text/plain": [
       "0    28\n",
       "1     9\n",
       "Name: is_bot?, dtype: int64"
      ]
     },
     "execution_count": 34,
     "metadata": {},
     "output_type": "execute_result"
    }
   ],
   "source": [
    "y_test.value_counts()"
   ]
  },
  {
   "attachments": {},
   "cell_type": "markdown",
   "metadata": {},
   "source": [
    "* Numerical Columns for Standardization:\n",
    "    * followers\n",
    "    * following\n",
    "    * tweet_count\n",
    "    * time_to_respond_minutes\n",
    "    * aaacount_age_days\n",
    "    * followers_to_following_ratio\n",
    "    * avg_tweets_per_day\n",
    "* Categorical Columns that need encoding\n",
    "    * verfied\n",
    "    * default_prof_img\n",
    "    * has_#"
   ]
  },
  {
   "cell_type": "code",
   "execution_count": 37,
   "metadata": {},
   "outputs": [],
   "source": [
    "ct = make_column_transformer(\n",
    "    (MinMaxScaler(), ['followers','following','tweet_count','time_to_respond_minutes',\n",
    "                      'account_age_days','follwers_to_following_ratio','avg_tweets_per_day']),\n",
    "    (OneHotEncoder(handle_unknown='ignore'),['verified','default_prof_img','has_#'])\n",
    ")"
   ]
  },
  {
   "cell_type": "code",
   "execution_count": 38,
   "metadata": {},
   "outputs": [],
   "source": [
    "ct.fit(X_train)\n",
    "\n",
    "X_train_normal = ct.transform(X_train)\n",
    "\n",
    "X_test_normal = ct.transform(X_test)"
   ]
  },
  {
   "cell_type": "code",
   "execution_count": 40,
   "metadata": {},
   "outputs": [],
   "source": [
    "from sklearn.tree import DecisionTreeClassifier"
   ]
  },
  {
   "cell_type": "code",
   "execution_count": 45,
   "metadata": {},
   "outputs": [
    {
     "data": {
      "text/plain": [
       "DecisionTreeClassifier(random_state=42)"
      ]
     },
     "execution_count": 45,
     "metadata": {},
     "output_type": "execute_result"
    }
   ],
   "source": [
    "tree_clf = DecisionTreeClassifier(random_state=42)\n",
    "tree_clf.fit(X_train_normal,y_train)"
   ]
  },
  {
   "cell_type": "code",
   "execution_count": 47,
   "metadata": {},
   "outputs": [
    {
     "data": {
      "text/plain": [
       "0.8108108108108109"
      ]
     },
     "execution_count": 47,
     "metadata": {},
     "output_type": "execute_result"
    }
   ],
   "source": [
    "from sklearn.metrics import accuracy_score\n",
    "y_pred = tree_clf.predict(X_test_normal)\n",
    "\n",
    "accuracy_score(y_test,y_pred)"
   ]
  },
  {
   "cell_type": "code",
   "execution_count": 46,
   "metadata": {},
   "outputs": [
    {
     "data": {
      "text/plain": [
       "0.8108108108108109"
      ]
     },
     "execution_count": 46,
     "metadata": {},
     "output_type": "execute_result"
    }
   ],
   "source": [
    "tree_clf.score(X_test_normal,y_test)"
   ]
  },
  {
   "cell_type": "code",
   "execution_count": 49,
   "metadata": {},
   "outputs": [],
   "source": [
    "depth=[]\n",
    "training_score=[]\n",
    "testing_score = []\n",
    "\n",
    "\n",
    "for i in range(1,25):\n",
    "    clf_dt= DecisionTreeClassifier(criterion='gini',random_state=42, max_depth=i)\n",
    "    clf_dt.fit(X_train_normal,y_train)    \n",
    "    pred_train = clf_dt.predict(X_train_normal)\n",
    "    pred_test = clf_dt.predict(X_test_normal)\n",
    "\n",
    "    depth.append(i)\n",
    "    training_score.append(accuracy_score(y_train,pred_train))\n",
    "    testing_score.append(accuracy_score(y_test,pred_test))"
   ]
  },
  {
   "cell_type": "code",
   "execution_count": 50,
   "metadata": {},
   "outputs": [
    {
     "data": {
      "text/plain": [
       "<matplotlib.collections.PathCollection at 0x1cd0f9b4408>"
      ]
     },
     "execution_count": 50,
     "metadata": {},
     "output_type": "execute_result"
    },
    {
     "data": {
      "image/png": "[encoded data removed]",
      "text/plain": [
       "<Figure size 1008x504 with 1 Axes>"
      ]
     },
     "metadata": {
      "needs_background": "light"
     },
     "output_type": "display_data"
    }
   ],
   "source": [
    "plt.figure(figsize=(14,7))\n",
    "plt.grid()\n",
    "\n",
    "plt.plot(depth, training_score,c='black')\n",
    "plt.plot(depth, testing_score,c='red')\n",
    "plt.scatter(depth, training_score,c='black',marker='*',linewidth=2)\n",
    "plt.scatter(depth, testing_score,c='red',marker='*',linewidth=2)"
   ]
  },
  {
   "cell_type": "code",
   "execution_count": 53,
   "metadata": {},
   "outputs": [
    {
     "data": {
      "text/plain": [
       "GridSearchCV(cv=5, estimator=DecisionTreeClassifier(),\n",
       "             param_grid={'criterion': ['gini', 'entropy'],\n",
       "                         'max_depth': [1, 2, 3, 4, 5, 6, 7, 8, 9, 10, 11, 12,\n",
       "                                       13, 14, 15, 16, 17, 18, 19, 20, 21, 22,\n",
       "                                       23, 24, 25, 26, 27, 28, 29, 30, ...]})"
      ]
     },
     "execution_count": 53,
     "metadata": {},
     "output_type": "execute_result"
    }
   ],
   "source": [
    "from sklearn.model_selection import GridSearchCV\n",
    "\n",
    "param_grid = {\n",
    "    \"criterion\": ['gini','entropy'],\n",
    "    'max_depth': list(np.arange(1,50,1))\n",
    "}\n",
    "clf = DecisionTreeClassifier()\n",
    "clf_grid = GridSearchCV(estimator=clf, param_grid=param_grid,cv=5)\n",
    "\n",
    "clf_grid.fit(X_train_normal,y_train)"
   ]
  },
  {
   "cell_type": "code",
   "execution_count": 54,
   "metadata": {},
   "outputs": [
    {
     "data": {
      "text/plain": [
       "{'criterion': 'entropy', 'max_depth': 38}"
      ]
     },
     "execution_count": 54,
     "metadata": {},
     "output_type": "execute_result"
    }
   ],
   "source": [
    "clf_grid.best_params_"
   ]
  },
  {
   "cell_type": "code",
   "execution_count": 55,
   "metadata": {},
   "outputs": [
    {
     "data": {
      "text/plain": [
       "0.8378378378378378"
      ]
     },
     "execution_count": 55,
     "metadata": {},
     "output_type": "execute_result"
    }
   ],
   "source": [
    "clf_dt = DecisionTreeClassifier(criterion=clf_grid.best_params_['criterion'],max_depth=clf_grid.best_params_['max_depth'],random_state=42)\n",
    "clf_dt.fit(X_train_normal,y_train)\n",
    "clf_dt.score(X_test_normal,y_test)"
   ]
  },
  {
   "cell_type": "code",
   "execution_count": 67,
   "metadata": {},
   "outputs": [
    {
     "data": {
      "text/plain": [
       "0.8918918918918919"
      ]
     },
     "execution_count": 67,
     "metadata": {},
     "output_type": "execute_result"
    }
   ],
   "source": [
    "from sklearn.ensemble import GradientBoostingClassifier\n",
    "\n",
    "gbc_clf = GradientBoostingClassifier()\n",
    "\n",
    "gbc_clf.fit(X_train_normal,y_train)\n",
    "\n",
    "gbc_clf.score(X_test_normal,y_test)"
   ]
  },
  {
   "cell_type": "code",
   "execution_count": 86,
   "metadata": {},
   "outputs": [
    {
     "data": {
      "text/plain": [
       "0.8918918918918919"
      ]
     },
     "execution_count": 86,
     "metadata": {},
     "output_type": "execute_result"
    }
   ],
   "source": [
    "from sklearn.ensemble import StackingClassifier\n",
    "from sklearn.linear_model import LogisticRegression\n",
    "from sklearn.svm import SVC\n",
    "from sklearn.ensemble import RandomForestClassifier\n",
    "\n",
    "stacking_clf = StackingClassifier(\n",
    "    estimators=[\n",
    "        ('lr', LogisticRegression(random_state=42)),\n",
    "        ('gbc', GradientBoostingClassifier(random_state=42)),\n",
    "        ('svc', SVC(probability=True, random_state=42))\n",
    "    ],\n",
    "    final_estimator= RandomForestClassifier(random_state=42),cv=5\n",
    ")\n",
    "\n",
    "stacking_clf.fit(X_train_normal,y_train)\n",
    "\n",
    "stacking_clf.score(X_test_normal,y_test)"
   ]
  },
  {
   "cell_type": "code",
   "execution_count": null,
   "metadata": {},
   "outputs": [],
   "source": []
  }
 ],
 "metadata": {
  "kernelspec": {
   "display_name": "dev",
   "language": "python",
   "name": "python3"
  },
  "language_info": {
   "codemirror_mode": {
    "name": "ipython",
    "version": 3
   },
   "file_extension": ".py",
   "mimetype": "text/x-python",
   "name": "python",
   "nbconvert_exporter": "python",
   "pygments_lexer": "ipython3",
   "version": "3.7.13"
  },
  "orig_nbformat": 4
 },
 "nbformat": 4,
 "nbformat_minor": 2
}
