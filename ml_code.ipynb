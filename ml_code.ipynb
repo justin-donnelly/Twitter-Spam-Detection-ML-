{
 "cells": [
  {
   "cell_type": "code",
   "execution_count": 18,
   "metadata": {},
   "outputs": [],
   "source": [
    "import pandas as pd\n",
    "import matplotlib.pyplot as plt\n",
    "import numpy as np\n",
    "from sklearn.model_selection import train_test_split\n",
    "from sklearn.compose import make_column_transformer\n",
    "from sklearn.preprocessing import MinMaxScaler, OneHotEncoder\n",
    "import seaborn as sns"
   ]
  },
  {
   "cell_type": "code",
   "execution_count": 101,
   "metadata": {},
   "outputs": [],
   "source": [
    "df = pd.read_csv('./Resources/twitter_replies_data.csv')"
   ]
  },
  {
   "cell_type": "code",
   "execution_count": 92,
   "metadata": {},
   "outputs": [
    {
     "data": {
      "text/plain": [
       "Index(['Unnamed: 0', 'screen_name', 'followers', 'following', 'verified',\n",
       "       'tweet_count', 'default_prof_img', 'user_mentions', 'linked_urls',\n",
       "       'has_#', 'time_to_respond_minutes', 'account_age_days',\n",
       "       'follwers_to_following_ratio', 'avg_tweets_per_day', 'clean_text',\n",
       "       'is_bot?'],\n",
       "      dtype='object')"
      ]
     },
     "execution_count": 92,
     "metadata": {},
     "output_type": "execute_result"
    }
   ],
   "source": [
    "df.columns"
   ]
  },
  {
   "cell_type": "code",
   "execution_count": 102,
   "metadata": {},
   "outputs": [],
   "source": [
    "cols = ['user_mentions','linked_urls','has_#']"
   ]
  },
  {
   "cell_type": "code",
   "execution_count": 103,
   "metadata": {},
   "outputs": [
    {
     "data": {
      "text/html": [
       "<div>\n",
       "<style scoped>\n",
       "    .dataframe tbody tr th:only-of-type {\n",
       "        vertical-align: middle;\n",
       "    }\n",
       "\n",
       "    .dataframe tbody tr th {\n",
       "        vertical-align: top;\n",
       "    }\n",
       "\n",
       "    .dataframe thead th {\n",
       "        text-align: right;\n",
       "    }\n",
       "</style>\n",
       "<table border=\"1\" class=\"dataframe\">\n",
       "  <thead>\n",
       "    <tr style=\"text-align: right;\">\n",
       "      <th></th>\n",
       "      <th>screen_name</th>\n",
       "      <th>followers</th>\n",
       "      <th>following</th>\n",
       "      <th>verified</th>\n",
       "      <th>tweet_count</th>\n",
       "      <th>default_prof_img</th>\n",
       "      <th>user_mentions</th>\n",
       "      <th>linked_urls</th>\n",
       "      <th>has_#</th>\n",
       "      <th>time_to_respond_minutes</th>\n",
       "      <th>account_age_days</th>\n",
       "      <th>follwers_to_following_ratio</th>\n",
       "      <th>avg_tweets_per_day</th>\n",
       "      <th>clean_text</th>\n",
       "      <th>is_bot?</th>\n",
       "    </tr>\n",
       "  </thead>\n",
       "  <tbody>\n",
       "    <tr>\n",
       "      <th>0</th>\n",
       "      <td>itsjohnnytrades</td>\n",
       "      <td>462</td>\n",
       "      <td>73</td>\n",
       "      <td>False</td>\n",
       "      <td>545</td>\n",
       "      <td>False</td>\n",
       "      <td>1</td>\n",
       "      <td>0</td>\n",
       "      <td>no</td>\n",
       "      <td>100</td>\n",
       "      <td>1152</td>\n",
       "      <td>6.33</td>\n",
       "      <td>0.47</td>\n",
       "      <td>big crypto accounts starting to look for bear...</td>\n",
       "      <td>0</td>\n",
       "    </tr>\n",
       "    <tr>\n",
       "      <th>1</th>\n",
       "      <td>aicryptotrade1</td>\n",
       "      <td>171</td>\n",
       "      <td>87</td>\n",
       "      <td>False</td>\n",
       "      <td>848</td>\n",
       "      <td>False</td>\n",
       "      <td>1</td>\n",
       "      <td>0</td>\n",
       "      <td>no</td>\n",
       "      <td>76</td>\n",
       "      <td>50</td>\n",
       "      <td>1.97</td>\n",
       "      <td>16.96</td>\n",
       "      <td>first 28 2k then 29k then 32k this is the roa...</td>\n",
       "      <td>0</td>\n",
       "    </tr>\n",
       "    <tr>\n",
       "      <th>2</th>\n",
       "      <td>___reivax___</td>\n",
       "      <td>131</td>\n",
       "      <td>296</td>\n",
       "      <td>False</td>\n",
       "      <td>862</td>\n",
       "      <td>False</td>\n",
       "      <td>1</td>\n",
       "      <td>0</td>\n",
       "      <td>no</td>\n",
       "      <td>60</td>\n",
       "      <td>2448</td>\n",
       "      <td>0.44</td>\n",
       "      <td>0.35</td>\n",
       "      <td>this looks like a beautiful bob ross painting</td>\n",
       "      <td>0</td>\n",
       "    </tr>\n",
       "    <tr>\n",
       "      <th>3</th>\n",
       "      <td>Horstvault</td>\n",
       "      <td>2782</td>\n",
       "      <td>63</td>\n",
       "      <td>False</td>\n",
       "      <td>3748</td>\n",
       "      <td>False</td>\n",
       "      <td>1</td>\n",
       "      <td>0</td>\n",
       "      <td>no</td>\n",
       "      <td>53</td>\n",
       "      <td>816</td>\n",
       "      <td>44.16</td>\n",
       "      <td>4.59</td>\n",
       "      <td>his do you get a chart that shows you the rea...</td>\n",
       "      <td>0</td>\n",
       "    </tr>\n",
       "    <tr>\n",
       "      <th>4</th>\n",
       "      <td>keshvism</td>\n",
       "      <td>142</td>\n",
       "      <td>1855</td>\n",
       "      <td>False</td>\n",
       "      <td>874</td>\n",
       "      <td>False</td>\n",
       "      <td>1</td>\n",
       "      <td>0</td>\n",
       "      <td>no</td>\n",
       "      <td>49</td>\n",
       "      <td>1324</td>\n",
       "      <td>0.08</td>\n",
       "      <td>0.66</td>\n",
       "      <td>forget price action for 2 mins  this chart in...</td>\n",
       "      <td>0</td>\n",
       "    </tr>\n",
       "  </tbody>\n",
       "</table>\n",
       "</div>"
      ],
      "text/plain": [
       "       screen_name  followers  following  verified  tweet_count  \\\n",
       "0  itsjohnnytrades        462         73     False          545   \n",
       "1   aicryptotrade1        171         87     False          848   \n",
       "2     ___reivax___        131        296     False          862   \n",
       "3       Horstvault       2782         63     False         3748   \n",
       "4         keshvism        142       1855     False          874   \n",
       "\n",
       "   default_prof_img  user_mentions  linked_urls has_#  \\\n",
       "0             False              1            0    no   \n",
       "1             False              1            0    no   \n",
       "2             False              1            0    no   \n",
       "3             False              1            0    no   \n",
       "4             False              1            0    no   \n",
       "\n",
       "   time_to_respond_minutes  account_age_days  follwers_to_following_ratio  \\\n",
       "0                      100              1152                         6.33   \n",
       "1                       76                50                         1.97   \n",
       "2                       60              2448                         0.44   \n",
       "3                       53               816                        44.16   \n",
       "4                       49              1324                         0.08   \n",
       "\n",
       "   avg_tweets_per_day                                         clean_text  \\\n",
       "0                0.47   big crypto accounts starting to look for bear...   \n",
       "1               16.96   first 28 2k then 29k then 32k this is the roa...   \n",
       "2                0.35      this looks like a beautiful bob ross painting   \n",
       "3                4.59   his do you get a chart that shows you the rea...   \n",
       "4                0.66   forget price action for 2 mins  this chart in...   \n",
       "\n",
       "   is_bot?  \n",
       "0        0  \n",
       "1        0  \n",
       "2        0  \n",
       "3        0  \n",
       "4        0  "
      ]
     },
     "execution_count": 103,
     "metadata": {},
     "output_type": "execute_result"
    }
   ],
   "source": [
    "df=df.drop(columns=['Unnamed: 0'])\n",
    "df.head()"
   ]
  },
  {
   "cell_type": "code",
   "execution_count": 104,
   "metadata": {},
   "outputs": [
    {
     "data": {
      "text/html": [
       "<div>\n",
       "<style scoped>\n",
       "    .dataframe tbody tr th:only-of-type {\n",
       "        vertical-align: middle;\n",
       "    }\n",
       "\n",
       "    .dataframe tbody tr th {\n",
       "        vertical-align: top;\n",
       "    }\n",
       "\n",
       "    .dataframe thead th {\n",
       "        text-align: right;\n",
       "    }\n",
       "</style>\n",
       "<table border=\"1\" class=\"dataframe\">\n",
       "  <thead>\n",
       "    <tr style=\"text-align: right;\">\n",
       "      <th></th>\n",
       "      <th>followers</th>\n",
       "      <th>following</th>\n",
       "      <th>tweet_count</th>\n",
       "      <th>user_mentions</th>\n",
       "      <th>linked_urls</th>\n",
       "      <th>time_to_respond_minutes</th>\n",
       "      <th>account_age_days</th>\n",
       "      <th>follwers_to_following_ratio</th>\n",
       "      <th>avg_tweets_per_day</th>\n",
       "      <th>is_bot?</th>\n",
       "    </tr>\n",
       "  </thead>\n",
       "  <tbody>\n",
       "    <tr>\n",
       "      <th>count</th>\n",
       "      <td>202.000000</td>\n",
       "      <td>202.000000</td>\n",
       "      <td>202.000000</td>\n",
       "      <td>202.000000</td>\n",
       "      <td>202.000000</td>\n",
       "      <td>202.000000</td>\n",
       "      <td>202.000000</td>\n",
       "      <td>202.000000</td>\n",
       "      <td>202.000000</td>\n",
       "      <td>202.000000</td>\n",
       "    </tr>\n",
       "    <tr>\n",
       "      <th>mean</th>\n",
       "      <td>6233.678218</td>\n",
       "      <td>690.034653</td>\n",
       "      <td>6422.123762</td>\n",
       "      <td>1.237624</td>\n",
       "      <td>0.054455</td>\n",
       "      <td>93.128713</td>\n",
       "      <td>1732.000000</td>\n",
       "      <td>11.974455</td>\n",
       "      <td>12.116634</td>\n",
       "      <td>0.207921</td>\n",
       "    </tr>\n",
       "    <tr>\n",
       "      <th>std</th>\n",
       "      <td>29563.316244</td>\n",
       "      <td>882.130401</td>\n",
       "      <td>11532.244782</td>\n",
       "      <td>0.530625</td>\n",
       "      <td>0.227478</td>\n",
       "      <td>543.264788</td>\n",
       "      <td>1565.010794</td>\n",
       "      <td>77.472044</td>\n",
       "      <td>34.903065</td>\n",
       "      <td>0.406828</td>\n",
       "    </tr>\n",
       "    <tr>\n",
       "      <th>min</th>\n",
       "      <td>0.000000</td>\n",
       "      <td>0.000000</td>\n",
       "      <td>4.000000</td>\n",
       "      <td>0.000000</td>\n",
       "      <td>0.000000</td>\n",
       "      <td>-13.000000</td>\n",
       "      <td>3.000000</td>\n",
       "      <td>0.000000</td>\n",
       "      <td>0.010000</td>\n",
       "      <td>0.000000</td>\n",
       "    </tr>\n",
       "    <tr>\n",
       "      <th>25%</th>\n",
       "      <td>74.750000</td>\n",
       "      <td>152.000000</td>\n",
       "      <td>754.500000</td>\n",
       "      <td>1.000000</td>\n",
       "      <td>0.000000</td>\n",
       "      <td>1.000000</td>\n",
       "      <td>517.250000</td>\n",
       "      <td>0.240000</td>\n",
       "      <td>0.702500</td>\n",
       "      <td>0.000000</td>\n",
       "    </tr>\n",
       "    <tr>\n",
       "      <th>50%</th>\n",
       "      <td>190.500000</td>\n",
       "      <td>301.000000</td>\n",
       "      <td>2143.000000</td>\n",
       "      <td>1.000000</td>\n",
       "      <td>0.000000</td>\n",
       "      <td>3.000000</td>\n",
       "      <td>1051.000000</td>\n",
       "      <td>0.675000</td>\n",
       "      <td>2.315000</td>\n",
       "      <td>0.000000</td>\n",
       "    </tr>\n",
       "    <tr>\n",
       "      <th>75%</th>\n",
       "      <td>893.000000</td>\n",
       "      <td>975.500000</td>\n",
       "      <td>6184.750000</td>\n",
       "      <td>1.000000</td>\n",
       "      <td>0.000000</td>\n",
       "      <td>7.000000</td>\n",
       "      <td>3095.000000</td>\n",
       "      <td>1.960000</td>\n",
       "      <td>9.480000</td>\n",
       "      <td>0.000000</td>\n",
       "    </tr>\n",
       "    <tr>\n",
       "      <th>max</th>\n",
       "      <td>289250.000000</td>\n",
       "      <td>4990.000000</td>\n",
       "      <td>88975.000000</td>\n",
       "      <td>3.000000</td>\n",
       "      <td>1.000000</td>\n",
       "      <td>5209.000000</td>\n",
       "      <td>5513.000000</td>\n",
       "      <td>1014.910000</td>\n",
       "      <td>389.000000</td>\n",
       "      <td>1.000000</td>\n",
       "    </tr>\n",
       "  </tbody>\n",
       "</table>\n",
       "</div>"
      ],
      "text/plain": [
       "           followers    following   tweet_count  user_mentions  linked_urls  \\\n",
       "count     202.000000   202.000000    202.000000     202.000000   202.000000   \n",
       "mean     6233.678218   690.034653   6422.123762       1.237624     0.054455   \n",
       "std     29563.316244   882.130401  11532.244782       0.530625     0.227478   \n",
       "min         0.000000     0.000000      4.000000       0.000000     0.000000   \n",
       "25%        74.750000   152.000000    754.500000       1.000000     0.000000   \n",
       "50%       190.500000   301.000000   2143.000000       1.000000     0.000000   \n",
       "75%       893.000000   975.500000   6184.750000       1.000000     0.000000   \n",
       "max    289250.000000  4990.000000  88975.000000       3.000000     1.000000   \n",
       "\n",
       "       time_to_respond_minutes  account_age_days  follwers_to_following_ratio  \\\n",
       "count               202.000000        202.000000                   202.000000   \n",
       "mean                 93.128713       1732.000000                    11.974455   \n",
       "std                 543.264788       1565.010794                    77.472044   \n",
       "min                 -13.000000          3.000000                     0.000000   \n",
       "25%                   1.000000        517.250000                     0.240000   \n",
       "50%                   3.000000       1051.000000                     0.675000   \n",
       "75%                   7.000000       3095.000000                     1.960000   \n",
       "max                5209.000000       5513.000000                  1014.910000   \n",
       "\n",
       "       avg_tweets_per_day     is_bot?  \n",
       "count          202.000000  202.000000  \n",
       "mean            12.116634    0.207921  \n",
       "std             34.903065    0.406828  \n",
       "min              0.010000    0.000000  \n",
       "25%              0.702500    0.000000  \n",
       "50%              2.315000    0.000000  \n",
       "75%              9.480000    0.000000  \n",
       "max            389.000000    1.000000  "
      ]
     },
     "execution_count": 104,
     "metadata": {},
     "output_type": "execute_result"
    }
   ],
   "source": [
    "df.describe()"
   ]
  },
  {
   "cell_type": "code",
   "execution_count": 105,
   "metadata": {},
   "outputs": [
    {
     "data": {
      "text/plain": [
       "0    160\n",
       "1     42\n",
       "Name: is_bot?, dtype: int64"
      ]
     },
     "execution_count": 105,
     "metadata": {},
     "output_type": "execute_result"
    }
   ],
   "source": [
    "df['is_bot?'].value_counts()"
   ]
  },
  {
   "cell_type": "code",
   "execution_count": 106,
   "metadata": {},
   "outputs": [
    {
     "data": {
      "text/plain": [
       "202"
      ]
     },
     "execution_count": 106,
     "metadata": {},
     "output_type": "execute_result"
    }
   ],
   "source": [
    "len(df)"
   ]
  },
  {
   "cell_type": "code",
   "execution_count": 107,
   "metadata": {},
   "outputs": [
    {
     "data": {
      "text/plain": [
       "202"
      ]
     },
     "execution_count": 107,
     "metadata": {},
     "output_type": "execute_result"
    }
   ],
   "source": [
    "df = df.fillna('picture')\n",
    "len(df)"
   ]
  },
  {
   "cell_type": "code",
   "execution_count": 108,
   "metadata": {},
   "outputs": [
    {
     "data": {
      "text/html": [
       "<div>\n",
       "<style scoped>\n",
       "    .dataframe tbody tr th:only-of-type {\n",
       "        vertical-align: middle;\n",
       "    }\n",
       "\n",
       "    .dataframe tbody tr th {\n",
       "        vertical-align: top;\n",
       "    }\n",
       "\n",
       "    .dataframe thead th {\n",
       "        text-align: right;\n",
       "    }\n",
       "</style>\n",
       "<table border=\"1\" class=\"dataframe\">\n",
       "  <thead>\n",
       "    <tr style=\"text-align: right;\">\n",
       "      <th></th>\n",
       "      <th>screen_name</th>\n",
       "      <th>followers</th>\n",
       "      <th>following</th>\n",
       "      <th>verified</th>\n",
       "      <th>tweet_count</th>\n",
       "      <th>default_prof_img</th>\n",
       "      <th>user_mentions</th>\n",
       "      <th>linked_urls</th>\n",
       "      <th>has_#</th>\n",
       "      <th>time_to_respond_minutes</th>\n",
       "      <th>account_age_days</th>\n",
       "      <th>follwers_to_following_ratio</th>\n",
       "      <th>avg_tweets_per_day</th>\n",
       "      <th>clean_text</th>\n",
       "      <th>is_bot?</th>\n",
       "    </tr>\n",
       "  </thead>\n",
       "  <tbody>\n",
       "    <tr>\n",
       "      <th>0</th>\n",
       "      <td>itsjohnnytrades</td>\n",
       "      <td>462</td>\n",
       "      <td>73</td>\n",
       "      <td>False</td>\n",
       "      <td>545</td>\n",
       "      <td>False</td>\n",
       "      <td>1</td>\n",
       "      <td>0</td>\n",
       "      <td>no</td>\n",
       "      <td>100</td>\n",
       "      <td>1152</td>\n",
       "      <td>6.33</td>\n",
       "      <td>0.47</td>\n",
       "      <td>big crypto accounts starting to look for bear...</td>\n",
       "      <td>0</td>\n",
       "    </tr>\n",
       "    <tr>\n",
       "      <th>1</th>\n",
       "      <td>aicryptotrade1</td>\n",
       "      <td>171</td>\n",
       "      <td>87</td>\n",
       "      <td>False</td>\n",
       "      <td>848</td>\n",
       "      <td>False</td>\n",
       "      <td>1</td>\n",
       "      <td>0</td>\n",
       "      <td>no</td>\n",
       "      <td>76</td>\n",
       "      <td>50</td>\n",
       "      <td>1.97</td>\n",
       "      <td>16.96</td>\n",
       "      <td>first 28 2k then 29k then 32k this is the roa...</td>\n",
       "      <td>0</td>\n",
       "    </tr>\n",
       "    <tr>\n",
       "      <th>2</th>\n",
       "      <td>___reivax___</td>\n",
       "      <td>131</td>\n",
       "      <td>296</td>\n",
       "      <td>False</td>\n",
       "      <td>862</td>\n",
       "      <td>False</td>\n",
       "      <td>1</td>\n",
       "      <td>0</td>\n",
       "      <td>no</td>\n",
       "      <td>60</td>\n",
       "      <td>2448</td>\n",
       "      <td>0.44</td>\n",
       "      <td>0.35</td>\n",
       "      <td>this looks like a beautiful bob ross painting</td>\n",
       "      <td>0</td>\n",
       "    </tr>\n",
       "    <tr>\n",
       "      <th>3</th>\n",
       "      <td>Horstvault</td>\n",
       "      <td>2782</td>\n",
       "      <td>63</td>\n",
       "      <td>False</td>\n",
       "      <td>3748</td>\n",
       "      <td>False</td>\n",
       "      <td>1</td>\n",
       "      <td>0</td>\n",
       "      <td>no</td>\n",
       "      <td>53</td>\n",
       "      <td>816</td>\n",
       "      <td>44.16</td>\n",
       "      <td>4.59</td>\n",
       "      <td>his do you get a chart that shows you the rea...</td>\n",
       "      <td>0</td>\n",
       "    </tr>\n",
       "    <tr>\n",
       "      <th>4</th>\n",
       "      <td>keshvism</td>\n",
       "      <td>142</td>\n",
       "      <td>1855</td>\n",
       "      <td>False</td>\n",
       "      <td>874</td>\n",
       "      <td>False</td>\n",
       "      <td>1</td>\n",
       "      <td>0</td>\n",
       "      <td>no</td>\n",
       "      <td>49</td>\n",
       "      <td>1324</td>\n",
       "      <td>0.08</td>\n",
       "      <td>0.66</td>\n",
       "      <td>forget price action for 2 mins  this chart in...</td>\n",
       "      <td>0</td>\n",
       "    </tr>\n",
       "  </tbody>\n",
       "</table>\n",
       "</div>"
      ],
      "text/plain": [
       "       screen_name  followers  following  verified  tweet_count  \\\n",
       "0  itsjohnnytrades        462         73     False          545   \n",
       "1   aicryptotrade1        171         87     False          848   \n",
       "2     ___reivax___        131        296     False          862   \n",
       "3       Horstvault       2782         63     False         3748   \n",
       "4         keshvism        142       1855     False          874   \n",
       "\n",
       "   default_prof_img  user_mentions  linked_urls has_#  \\\n",
       "0             False              1            0    no   \n",
       "1             False              1            0    no   \n",
       "2             False              1            0    no   \n",
       "3             False              1            0    no   \n",
       "4             False              1            0    no   \n",
       "\n",
       "   time_to_respond_minutes  account_age_days  follwers_to_following_ratio  \\\n",
       "0                      100              1152                         6.33   \n",
       "1                       76                50                         1.97   \n",
       "2                       60              2448                         0.44   \n",
       "3                       53               816                        44.16   \n",
       "4                       49              1324                         0.08   \n",
       "\n",
       "   avg_tweets_per_day                                         clean_text  \\\n",
       "0                0.47   big crypto accounts starting to look for bear...   \n",
       "1               16.96   first 28 2k then 29k then 32k this is the roa...   \n",
       "2                0.35      this looks like a beautiful bob ross painting   \n",
       "3                4.59   his do you get a chart that shows you the rea...   \n",
       "4                0.66   forget price action for 2 mins  this chart in...   \n",
       "\n",
       "   is_bot?  \n",
       "0        0  \n",
       "1        0  \n",
       "2        0  \n",
       "3        0  \n",
       "4        0  "
      ]
     },
     "execution_count": 108,
     "metadata": {},
     "output_type": "execute_result"
    }
   ],
   "source": [
    "df.head()"
   ]
  },
  {
   "cell_type": "code",
   "execution_count": 109,
   "metadata": {},
   "outputs": [
    {
     "name": "stdout",
     "output_type": "stream",
     "text": [
      "Count plot for ' user_mentions ' feature, based on Spam/ Ham tweet label\n"
     ]
    },
    {
     "name": "stderr",
     "output_type": "stream",
     "text": [
      "c:\\Users\\Justin\\anaconda3\\envs\\dev\\lib\\site-packages\\seaborn\\_decorators.py:43: FutureWarning: Pass the following variable as a keyword arg: x. From version 0.12, the only valid positional argument will be `data`, and passing other arguments without an explicit keyword will result in an error or misinterpretation.\n",
      "  FutureWarning\n"
     ]
    },
    {
     "data": {
      "image/png": "[encoded data removed]",
      "text/plain": [
       "<Figure size 864x576 with 1 Axes>"
      ]
     },
     "metadata": {
      "needs_background": "light"
     },
     "output_type": "display_data"
    },
    {
     "name": "stdout",
     "output_type": "stream",
     "text": [
      "Count plot for ' linked_urls ' feature, based on Spam/ Ham tweet label\n"
     ]
    },
    {
     "name": "stderr",
     "output_type": "stream",
     "text": [
      "c:\\Users\\Justin\\anaconda3\\envs\\dev\\lib\\site-packages\\seaborn\\_decorators.py:43: FutureWarning: Pass the following variable as a keyword arg: x. From version 0.12, the only valid positional argument will be `data`, and passing other arguments without an explicit keyword will result in an error or misinterpretation.\n",
      "  FutureWarning\n"
     ]
    },
    {
     "data": {
      "image/png": "[encoded data removed]",
      "text/plain": [
       "<Figure size 864x576 with 1 Axes>"
      ]
     },
     "metadata": {
      "needs_background": "light"
     },
     "output_type": "display_data"
    },
    {
     "name": "stdout",
     "output_type": "stream",
     "text": [
      "Count plot for ' has_# ' feature, based on Spam/ Ham tweet label\n"
     ]
    },
    {
     "name": "stderr",
     "output_type": "stream",
     "text": [
      "c:\\Users\\Justin\\anaconda3\\envs\\dev\\lib\\site-packages\\seaborn\\_decorators.py:43: FutureWarning: Pass the following variable as a keyword arg: x. From version 0.12, the only valid positional argument will be `data`, and passing other arguments without an explicit keyword will result in an error or misinterpretation.\n",
      "  FutureWarning\n"
     ]
    },
    {
     "data": {
      "image/png": "[encoded data removed]",
      "text/plain": [
       "<Figure size 864x576 with 1 Axes>"
      ]
     },
     "metadata": {
      "needs_background": "light"
     },
     "output_type": "display_data"
    }
   ],
   "source": [
    "for i in range(0,len(cols)):\n",
    "    plt.figure(figsize=(12,8))\n",
    "    c = cols[i]\n",
    "    print(\"Count plot for\",\"'\",cols[i],\"' feature, based on Spam/ Ham tweet label\")\n",
    "    sns.countplot(c, hue=df['is_bot?'],data =df)\n",
    "    plt.show()"
   ]
  },
  {
   "cell_type": "code",
   "execution_count": 110,
   "metadata": {},
   "outputs": [
    {
     "data": {
      "text/html": [
       "<div>\n",
       "<style scoped>\n",
       "    .dataframe tbody tr th:only-of-type {\n",
       "        vertical-align: middle;\n",
       "    }\n",
       "\n",
       "    .dataframe tbody tr th {\n",
       "        vertical-align: top;\n",
       "    }\n",
       "\n",
       "    .dataframe thead th {\n",
       "        text-align: right;\n",
       "    }\n",
       "</style>\n",
       "<table border=\"1\" class=\"dataframe\">\n",
       "  <thead>\n",
       "    <tr style=\"text-align: right;\">\n",
       "      <th></th>\n",
       "      <th>screen_name</th>\n",
       "      <th>followers</th>\n",
       "      <th>following</th>\n",
       "      <th>verified</th>\n",
       "      <th>tweet_count</th>\n",
       "      <th>default_prof_img</th>\n",
       "      <th>user_mentions</th>\n",
       "      <th>linked_urls</th>\n",
       "      <th>has_#</th>\n",
       "      <th>time_to_respond_minutes</th>\n",
       "      <th>account_age_days</th>\n",
       "      <th>follwers_to_following_ratio</th>\n",
       "      <th>avg_tweets_per_day</th>\n",
       "      <th>clean_text</th>\n",
       "      <th>is_bot?</th>\n",
       "    </tr>\n",
       "  </thead>\n",
       "  <tbody>\n",
       "    <tr>\n",
       "      <th>0</th>\n",
       "      <td>itsjohnnytrades</td>\n",
       "      <td>462</td>\n",
       "      <td>73</td>\n",
       "      <td>False</td>\n",
       "      <td>545</td>\n",
       "      <td>False</td>\n",
       "      <td>1</td>\n",
       "      <td>0</td>\n",
       "      <td>no</td>\n",
       "      <td>100</td>\n",
       "      <td>1152</td>\n",
       "      <td>6.33</td>\n",
       "      <td>0.47</td>\n",
       "      <td>big crypto accounts starting to look for bear...</td>\n",
       "      <td>0</td>\n",
       "    </tr>\n",
       "    <tr>\n",
       "      <th>1</th>\n",
       "      <td>aicryptotrade1</td>\n",
       "      <td>171</td>\n",
       "      <td>87</td>\n",
       "      <td>False</td>\n",
       "      <td>848</td>\n",
       "      <td>False</td>\n",
       "      <td>1</td>\n",
       "      <td>0</td>\n",
       "      <td>no</td>\n",
       "      <td>76</td>\n",
       "      <td>50</td>\n",
       "      <td>1.97</td>\n",
       "      <td>16.96</td>\n",
       "      <td>first 28 2k then 29k then 32k this is the roa...</td>\n",
       "      <td>0</td>\n",
       "    </tr>\n",
       "    <tr>\n",
       "      <th>2</th>\n",
       "      <td>___reivax___</td>\n",
       "      <td>131</td>\n",
       "      <td>296</td>\n",
       "      <td>False</td>\n",
       "      <td>862</td>\n",
       "      <td>False</td>\n",
       "      <td>1</td>\n",
       "      <td>0</td>\n",
       "      <td>no</td>\n",
       "      <td>60</td>\n",
       "      <td>2448</td>\n",
       "      <td>0.44</td>\n",
       "      <td>0.35</td>\n",
       "      <td>this looks like a beautiful bob ross painting</td>\n",
       "      <td>0</td>\n",
       "    </tr>\n",
       "    <tr>\n",
       "      <th>3</th>\n",
       "      <td>Horstvault</td>\n",
       "      <td>2782</td>\n",
       "      <td>63</td>\n",
       "      <td>False</td>\n",
       "      <td>3748</td>\n",
       "      <td>False</td>\n",
       "      <td>1</td>\n",
       "      <td>0</td>\n",
       "      <td>no</td>\n",
       "      <td>53</td>\n",
       "      <td>816</td>\n",
       "      <td>44.16</td>\n",
       "      <td>4.59</td>\n",
       "      <td>his do you get a chart that shows you the rea...</td>\n",
       "      <td>0</td>\n",
       "    </tr>\n",
       "    <tr>\n",
       "      <th>4</th>\n",
       "      <td>keshvism</td>\n",
       "      <td>142</td>\n",
       "      <td>1855</td>\n",
       "      <td>False</td>\n",
       "      <td>874</td>\n",
       "      <td>False</td>\n",
       "      <td>1</td>\n",
       "      <td>0</td>\n",
       "      <td>no</td>\n",
       "      <td>49</td>\n",
       "      <td>1324</td>\n",
       "      <td>0.08</td>\n",
       "      <td>0.66</td>\n",
       "      <td>forget price action for 2 mins  this chart in...</td>\n",
       "      <td>0</td>\n",
       "    </tr>\n",
       "  </tbody>\n",
       "</table>\n",
       "</div>"
      ],
      "text/plain": [
       "       screen_name  followers  following  verified  tweet_count  \\\n",
       "0  itsjohnnytrades        462         73     False          545   \n",
       "1   aicryptotrade1        171         87     False          848   \n",
       "2     ___reivax___        131        296     False          862   \n",
       "3       Horstvault       2782         63     False         3748   \n",
       "4         keshvism        142       1855     False          874   \n",
       "\n",
       "   default_prof_img  user_mentions  linked_urls has_#  \\\n",
       "0             False              1            0    no   \n",
       "1             False              1            0    no   \n",
       "2             False              1            0    no   \n",
       "3             False              1            0    no   \n",
       "4             False              1            0    no   \n",
       "\n",
       "   time_to_respond_minutes  account_age_days  follwers_to_following_ratio  \\\n",
       "0                      100              1152                         6.33   \n",
       "1                       76                50                         1.97   \n",
       "2                       60              2448                         0.44   \n",
       "3                       53               816                        44.16   \n",
       "4                       49              1324                         0.08   \n",
       "\n",
       "   avg_tweets_per_day                                         clean_text  \\\n",
       "0                0.47   big crypto accounts starting to look for bear...   \n",
       "1               16.96   first 28 2k then 29k then 32k this is the roa...   \n",
       "2                0.35      this looks like a beautiful bob ross painting   \n",
       "3                4.59   his do you get a chart that shows you the rea...   \n",
       "4                0.66   forget price action for 2 mins  this chart in...   \n",
       "\n",
       "   is_bot?  \n",
       "0        0  \n",
       "1        0  \n",
       "2        0  \n",
       "3        0  \n",
       "4        0  "
      ]
     },
     "execution_count": 110,
     "metadata": {},
     "output_type": "execute_result"
    }
   ],
   "source": [
    "df.head()"
   ]
  },
  {
   "cell_type": "code",
   "execution_count": 111,
   "metadata": {},
   "outputs": [
    {
     "data": {
      "text/html": [
       "<div>\n",
       "<style scoped>\n",
       "    .dataframe tbody tr th:only-of-type {\n",
       "        vertical-align: middle;\n",
       "    }\n",
       "\n",
       "    .dataframe tbody tr th {\n",
       "        vertical-align: top;\n",
       "    }\n",
       "\n",
       "    .dataframe thead th {\n",
       "        text-align: right;\n",
       "    }\n",
       "</style>\n",
       "<table border=\"1\" class=\"dataframe\">\n",
       "  <thead>\n",
       "    <tr style=\"text-align: right;\">\n",
       "      <th></th>\n",
       "      <th>followers</th>\n",
       "      <th>following</th>\n",
       "      <th>verified</th>\n",
       "      <th>tweet_count</th>\n",
       "      <th>default_prof_img</th>\n",
       "      <th>user_mentions</th>\n",
       "      <th>linked_urls</th>\n",
       "      <th>has_#</th>\n",
       "      <th>time_to_respond_minutes</th>\n",
       "      <th>account_age_days</th>\n",
       "      <th>follwers_to_following_ratio</th>\n",
       "      <th>avg_tweets_per_day</th>\n",
       "    </tr>\n",
       "  </thead>\n",
       "  <tbody>\n",
       "    <tr>\n",
       "      <th>0</th>\n",
       "      <td>462</td>\n",
       "      <td>73</td>\n",
       "      <td>False</td>\n",
       "      <td>545</td>\n",
       "      <td>False</td>\n",
       "      <td>1</td>\n",
       "      <td>0</td>\n",
       "      <td>no</td>\n",
       "      <td>100</td>\n",
       "      <td>1152</td>\n",
       "      <td>6.33</td>\n",
       "      <td>0.47</td>\n",
       "    </tr>\n",
       "    <tr>\n",
       "      <th>1</th>\n",
       "      <td>171</td>\n",
       "      <td>87</td>\n",
       "      <td>False</td>\n",
       "      <td>848</td>\n",
       "      <td>False</td>\n",
       "      <td>1</td>\n",
       "      <td>0</td>\n",
       "      <td>no</td>\n",
       "      <td>76</td>\n",
       "      <td>50</td>\n",
       "      <td>1.97</td>\n",
       "      <td>16.96</td>\n",
       "    </tr>\n",
       "    <tr>\n",
       "      <th>2</th>\n",
       "      <td>131</td>\n",
       "      <td>296</td>\n",
       "      <td>False</td>\n",
       "      <td>862</td>\n",
       "      <td>False</td>\n",
       "      <td>1</td>\n",
       "      <td>0</td>\n",
       "      <td>no</td>\n",
       "      <td>60</td>\n",
       "      <td>2448</td>\n",
       "      <td>0.44</td>\n",
       "      <td>0.35</td>\n",
       "    </tr>\n",
       "    <tr>\n",
       "      <th>3</th>\n",
       "      <td>2782</td>\n",
       "      <td>63</td>\n",
       "      <td>False</td>\n",
       "      <td>3748</td>\n",
       "      <td>False</td>\n",
       "      <td>1</td>\n",
       "      <td>0</td>\n",
       "      <td>no</td>\n",
       "      <td>53</td>\n",
       "      <td>816</td>\n",
       "      <td>44.16</td>\n",
       "      <td>4.59</td>\n",
       "    </tr>\n",
       "    <tr>\n",
       "      <th>4</th>\n",
       "      <td>142</td>\n",
       "      <td>1855</td>\n",
       "      <td>False</td>\n",
       "      <td>874</td>\n",
       "      <td>False</td>\n",
       "      <td>1</td>\n",
       "      <td>0</td>\n",
       "      <td>no</td>\n",
       "      <td>49</td>\n",
       "      <td>1324</td>\n",
       "      <td>0.08</td>\n",
       "      <td>0.66</td>\n",
       "    </tr>\n",
       "  </tbody>\n",
       "</table>\n",
       "</div>"
      ],
      "text/plain": [
       "   followers  following  verified  tweet_count  default_prof_img  \\\n",
       "0        462         73     False          545             False   \n",
       "1        171         87     False          848             False   \n",
       "2        131        296     False          862             False   \n",
       "3       2782         63     False         3748             False   \n",
       "4        142       1855     False          874             False   \n",
       "\n",
       "   user_mentions  linked_urls has_#  time_to_respond_minutes  \\\n",
       "0              1            0    no                      100   \n",
       "1              1            0    no                       76   \n",
       "2              1            0    no                       60   \n",
       "3              1            0    no                       53   \n",
       "4              1            0    no                       49   \n",
       "\n",
       "   account_age_days  follwers_to_following_ratio  avg_tweets_per_day  \n",
       "0              1152                         6.33                0.47  \n",
       "1                50                         1.97               16.96  \n",
       "2              2448                         0.44                0.35  \n",
       "3               816                        44.16                4.59  \n",
       "4              1324                         0.08                0.66  "
      ]
     },
     "execution_count": 111,
     "metadata": {},
     "output_type": "execute_result"
    }
   ],
   "source": [
    "X = df.drop(columns=['screen_name','clean_text','is_bot?'])\n",
    "X.head()"
   ]
  },
  {
   "cell_type": "code",
   "execution_count": 112,
   "metadata": {},
   "outputs": [],
   "source": [
    "y = df['is_bot?']"
   ]
  },
  {
   "cell_type": "code",
   "execution_count": 113,
   "metadata": {},
   "outputs": [
    {
     "data": {
      "text/plain": [
       "0    0\n",
       "1    0\n",
       "2    0\n",
       "3    0\n",
       "4    0\n",
       "Name: is_bot?, dtype: int64"
      ]
     },
     "execution_count": 113,
     "metadata": {},
     "output_type": "execute_result"
    }
   ],
   "source": [
    "y.head()"
   ]
  },
  {
   "cell_type": "code",
   "execution_count": 114,
   "metadata": {},
   "outputs": [
    {
     "data": {
      "text/plain": [
       "(202, 202)"
      ]
     },
     "execution_count": 114,
     "metadata": {},
     "output_type": "execute_result"
    }
   ],
   "source": [
    "len(X), len(y)"
   ]
  },
  {
   "cell_type": "code",
   "execution_count": 115,
   "metadata": {},
   "outputs": [],
   "source": [
    "X_train,X_test,y_train,y_test = train_test_split(X,y,test_size=.2, random_state=42,shuffle=True)"
   ]
  },
  {
   "cell_type": "code",
   "execution_count": 116,
   "metadata": {},
   "outputs": [
    {
     "data": {
      "text/plain": [
       "(161, 41, 161, 41)"
      ]
     },
     "execution_count": 116,
     "metadata": {},
     "output_type": "execute_result"
    }
   ],
   "source": [
    "len(X_train), len(X_test), len(y_train), len(y_test)"
   ]
  },
  {
   "cell_type": "code",
   "execution_count": 117,
   "metadata": {},
   "outputs": [
    {
     "data": {
      "text/plain": [
       "0    33\n",
       "1     8\n",
       "Name: is_bot?, dtype: int64"
      ]
     },
     "execution_count": 117,
     "metadata": {},
     "output_type": "execute_result"
    }
   ],
   "source": [
    "y_test.value_counts()"
   ]
  },
  {
   "attachments": {},
   "cell_type": "markdown",
   "metadata": {},
   "source": [
    "* Numerical Columns for Standardization:\n",
    "    * followers\n",
    "    * following\n",
    "    * tweet_count\n",
    "    * time_to_respond_minutes\n",
    "    * aaacount_age_days\n",
    "    * followers_to_following_ratio\n",
    "    * avg_tweets_per_day\n",
    "* Categorical Columns that need encoding\n",
    "    * verfied\n",
    "    * default_prof_img\n",
    "    * has_#"
   ]
  },
  {
   "cell_type": "code",
   "execution_count": 118,
   "metadata": {},
   "outputs": [],
   "source": [
    "ct = make_column_transformer(\n",
    "    (MinMaxScaler(), ['followers','following','tweet_count','time_to_respond_minutes',\n",
    "                      'account_age_days','follwers_to_following_ratio','avg_tweets_per_day']),\n",
    "    (OneHotEncoder(handle_unknown='ignore'),['verified','default_prof_img','has_#'])\n",
    ")"
   ]
  },
  {
   "cell_type": "code",
   "execution_count": 119,
   "metadata": {},
   "outputs": [],
   "source": [
    "ct.fit(X_train)\n",
    "\n",
    "X_train_normal = ct.transform(X_train)\n",
    "\n",
    "X_test_normal = ct.transform(X_test)"
   ]
  },
  {
   "cell_type": "code",
   "execution_count": 120,
   "metadata": {},
   "outputs": [],
   "source": [
    "from sklearn.tree import DecisionTreeClassifier"
   ]
  },
  {
   "cell_type": "code",
   "execution_count": 121,
   "metadata": {},
   "outputs": [
    {
     "data": {
      "text/plain": [
       "DecisionTreeClassifier(random_state=42)"
      ]
     },
     "execution_count": 121,
     "metadata": {},
     "output_type": "execute_result"
    }
   ],
   "source": [
    "tree_clf = DecisionTreeClassifier(random_state=42)\n",
    "tree_clf.fit(X_train_normal,y_train)"
   ]
  },
  {
   "cell_type": "code",
   "execution_count": 122,
   "metadata": {},
   "outputs": [
    {
     "data": {
      "text/plain": [
       "0.8536585365853658"
      ]
     },
     "execution_count": 122,
     "metadata": {},
     "output_type": "execute_result"
    }
   ],
   "source": [
    "from sklearn.metrics import accuracy_score\n",
    "y_pred = tree_clf.predict(X_test_normal)\n",
    "\n",
    "accuracy_score(y_test,y_pred)"
   ]
  },
  {
   "cell_type": "code",
   "execution_count": 123,
   "metadata": {},
   "outputs": [
    {
     "data": {
      "text/plain": [
       "0.8536585365853658"
      ]
     },
     "execution_count": 123,
     "metadata": {},
     "output_type": "execute_result"
    }
   ],
   "source": [
    "tree_clf.score(X_test_normal,y_test)"
   ]
  },
  {
   "cell_type": "code",
   "execution_count": 124,
   "metadata": {},
   "outputs": [],
   "source": [
    "depth=[]\n",
    "training_score=[]\n",
    "testing_score = []\n",
    "\n",
    "\n",
    "for i in range(1,25):\n",
    "    clf_dt= DecisionTreeClassifier(criterion='gini',random_state=42, max_depth=i)\n",
    "    clf_dt.fit(X_train_normal,y_train)    \n",
    "    pred_train = clf_dt.predict(X_train_normal)\n",
    "    pred_test = clf_dt.predict(X_test_normal)\n",
    "\n",
    "    depth.append(i)\n",
    "    training_score.append(accuracy_score(y_train,pred_train))\n",
    "    testing_score.append(accuracy_score(y_test,pred_test))"
   ]
  },
  {
   "cell_type": "code",
   "execution_count": 125,
   "metadata": {},
   "outputs": [
    {
     "data": {
      "text/plain": [
       "<matplotlib.collections.PathCollection at 0x1cd0f391948>"
      ]
     },
     "execution_count": 125,
     "metadata": {},
     "output_type": "execute_result"
    },
    {
     "data": {
      "image/png": "[encoded data removed]",
      "text/plain": [
       "<Figure size 1008x504 with 1 Axes>"
      ]
     },
     "metadata": {
      "needs_background": "light"
     },
     "output_type": "display_data"
    }
   ],
   "source": [
    "plt.figure(figsize=(14,7))\n",
    "plt.grid()\n",
    "\n",
    "plt.plot(depth, training_score,c='black')\n",
    "plt.plot(depth, testing_score,c='red')\n",
    "plt.scatter(depth, training_score,c='black',marker='*',linewidth=2)\n",
    "plt.scatter(depth, testing_score,c='red',marker='*',linewidth=2)"
   ]
  },
  {
   "cell_type": "code",
   "execution_count": 126,
   "metadata": {},
   "outputs": [
    {
     "data": {
      "text/plain": [
       "GridSearchCV(cv=5, estimator=DecisionTreeClassifier(),\n",
       "             param_grid={'criterion': ['gini', 'entropy'],\n",
       "                         'max_depth': [1, 2, 3, 4, 5, 6, 7, 8, 9, 10, 11, 12,\n",
       "                                       13, 14, 15, 16, 17, 18, 19, 20, 21, 22,\n",
       "                                       23, 24, 25, 26, 27, 28, 29, 30, ...]})"
      ]
     },
     "execution_count": 126,
     "metadata": {},
     "output_type": "execute_result"
    }
   ],
   "source": [
    "from sklearn.model_selection import GridSearchCV\n",
    "\n",
    "param_grid = {\n",
    "    \"criterion\": ['gini','entropy'],\n",
    "    'max_depth': list(np.arange(1,50,1))\n",
    "}\n",
    "clf = DecisionTreeClassifier()\n",
    "clf_grid = GridSearchCV(estimator=clf, param_grid=param_grid,cv=5)\n",
    "\n",
    "clf_grid.fit(X_train_normal,y_train)"
   ]
  },
  {
   "cell_type": "code",
   "execution_count": 127,
   "metadata": {},
   "outputs": [
    {
     "data": {
      "text/plain": [
       "{'criterion': 'gini', 'max_depth': 4}"
      ]
     },
     "execution_count": 127,
     "metadata": {},
     "output_type": "execute_result"
    }
   ],
   "source": [
    "clf_grid.best_params_"
   ]
  },
  {
   "cell_type": "code",
   "execution_count": 128,
   "metadata": {},
   "outputs": [
    {
     "data": {
      "text/plain": [
       "0.8292682926829268"
      ]
     },
     "execution_count": 128,
     "metadata": {},
     "output_type": "execute_result"
    }
   ],
   "source": [
    "clf_dt = DecisionTreeClassifier(criterion=clf_grid.best_params_['criterion'],max_depth=clf_grid.best_params_['max_depth'],random_state=42)\n",
    "clf_dt.fit(X_train_normal,y_train)\n",
    "clf_dt.score(X_test_normal,y_test)"
   ]
  },
  {
   "cell_type": "code",
   "execution_count": 129,
   "metadata": {},
   "outputs": [
    {
     "data": {
      "text/plain": [
       "0.9024390243902439"
      ]
     },
     "execution_count": 129,
     "metadata": {},
     "output_type": "execute_result"
    }
   ],
   "source": [
    "from sklearn.ensemble import GradientBoostingClassifier\n",
    "\n",
    "gbc_clf = GradientBoostingClassifier()\n",
    "\n",
    "gbc_clf.fit(X_train_normal,y_train)\n",
    "\n",
    "gbc_clf.score(X_test_normal,y_test)"
   ]
  },
  {
   "cell_type": "code",
   "execution_count": 141,
   "metadata": {},
   "outputs": [
    {
     "data": {
      "text/plain": [
       "0.8780487804878049"
      ]
     },
     "execution_count": 141,
     "metadata": {},
     "output_type": "execute_result"
    }
   ],
   "source": [
    "from sklearn.ensemble import StackingClassifier\n",
    "from sklearn.linear_model import LogisticRegression\n",
    "from sklearn.svm import SVC\n",
    "from sklearn.ensemble import RandomForestClassifier\n",
    "\n",
    "stacking_clf = StackingClassifier(\n",
    "    estimators=[\n",
    "        ('lr', LogisticRegression(random_state=42)),\n",
    "        ('gbc', GradientBoostingClassifier(random_state=42)),\n",
    "        ('svc', SVC(probability=True, random_state=42))\n",
    "    ],\n",
    "    final_estimator= RandomForestClassifier(random_state=42),cv=8\n",
    ")\n",
    "\n",
    "stacking_clf.fit(X_train_normal,y_train)\n",
    "\n",
    "stacking_clf.score(X_test_normal,y_test)"
   ]
  },
  {
   "attachments": {},
   "cell_type": "markdown",
   "metadata": {},
   "source": [
    "Looking like were topping out at around 90% accuracy using typical machine learning models and ensemble learning\n",
    "Now I would like to use NLP on the text portion, see what our accuracy can be, and use the text processing in accordance with our ensemble to create an even stronger ensemble (Hopefully)"
   ]
  },
  {
   "cell_type": "code",
   "execution_count": 131,
   "metadata": {},
   "outputs": [
    {
     "data": {
      "text/html": [
       "<div>\n",
       "<style scoped>\n",
       "    .dataframe tbody tr th:only-of-type {\n",
       "        vertical-align: middle;\n",
       "    }\n",
       "\n",
       "    .dataframe tbody tr th {\n",
       "        vertical-align: top;\n",
       "    }\n",
       "\n",
       "    .dataframe thead th {\n",
       "        text-align: right;\n",
       "    }\n",
       "</style>\n",
       "<table border=\"1\" class=\"dataframe\">\n",
       "  <thead>\n",
       "    <tr style=\"text-align: right;\">\n",
       "      <th></th>\n",
       "      <th>screen_name</th>\n",
       "      <th>followers</th>\n",
       "      <th>following</th>\n",
       "      <th>verified</th>\n",
       "      <th>tweet_count</th>\n",
       "      <th>default_prof_img</th>\n",
       "      <th>user_mentions</th>\n",
       "      <th>linked_urls</th>\n",
       "      <th>has_#</th>\n",
       "      <th>time_to_respond_minutes</th>\n",
       "      <th>account_age_days</th>\n",
       "      <th>follwers_to_following_ratio</th>\n",
       "      <th>avg_tweets_per_day</th>\n",
       "      <th>clean_text</th>\n",
       "      <th>is_bot?</th>\n",
       "    </tr>\n",
       "  </thead>\n",
       "  <tbody>\n",
       "    <tr>\n",
       "      <th>0</th>\n",
       "      <td>itsjohnnytrades</td>\n",
       "      <td>462</td>\n",
       "      <td>73</td>\n",
       "      <td>False</td>\n",
       "      <td>545</td>\n",
       "      <td>False</td>\n",
       "      <td>1</td>\n",
       "      <td>0</td>\n",
       "      <td>no</td>\n",
       "      <td>100</td>\n",
       "      <td>1152</td>\n",
       "      <td>6.33</td>\n",
       "      <td>0.47</td>\n",
       "      <td>big crypto accounts starting to look for bear...</td>\n",
       "      <td>0</td>\n",
       "    </tr>\n",
       "    <tr>\n",
       "      <th>1</th>\n",
       "      <td>aicryptotrade1</td>\n",
       "      <td>171</td>\n",
       "      <td>87</td>\n",
       "      <td>False</td>\n",
       "      <td>848</td>\n",
       "      <td>False</td>\n",
       "      <td>1</td>\n",
       "      <td>0</td>\n",
       "      <td>no</td>\n",
       "      <td>76</td>\n",
       "      <td>50</td>\n",
       "      <td>1.97</td>\n",
       "      <td>16.96</td>\n",
       "      <td>first 28 2k then 29k then 32k this is the roa...</td>\n",
       "      <td>0</td>\n",
       "    </tr>\n",
       "    <tr>\n",
       "      <th>2</th>\n",
       "      <td>___reivax___</td>\n",
       "      <td>131</td>\n",
       "      <td>296</td>\n",
       "      <td>False</td>\n",
       "      <td>862</td>\n",
       "      <td>False</td>\n",
       "      <td>1</td>\n",
       "      <td>0</td>\n",
       "      <td>no</td>\n",
       "      <td>60</td>\n",
       "      <td>2448</td>\n",
       "      <td>0.44</td>\n",
       "      <td>0.35</td>\n",
       "      <td>this looks like a beautiful bob ross painting</td>\n",
       "      <td>0</td>\n",
       "    </tr>\n",
       "    <tr>\n",
       "      <th>3</th>\n",
       "      <td>Horstvault</td>\n",
       "      <td>2782</td>\n",
       "      <td>63</td>\n",
       "      <td>False</td>\n",
       "      <td>3748</td>\n",
       "      <td>False</td>\n",
       "      <td>1</td>\n",
       "      <td>0</td>\n",
       "      <td>no</td>\n",
       "      <td>53</td>\n",
       "      <td>816</td>\n",
       "      <td>44.16</td>\n",
       "      <td>4.59</td>\n",
       "      <td>his do you get a chart that shows you the rea...</td>\n",
       "      <td>0</td>\n",
       "    </tr>\n",
       "    <tr>\n",
       "      <th>4</th>\n",
       "      <td>keshvism</td>\n",
       "      <td>142</td>\n",
       "      <td>1855</td>\n",
       "      <td>False</td>\n",
       "      <td>874</td>\n",
       "      <td>False</td>\n",
       "      <td>1</td>\n",
       "      <td>0</td>\n",
       "      <td>no</td>\n",
       "      <td>49</td>\n",
       "      <td>1324</td>\n",
       "      <td>0.08</td>\n",
       "      <td>0.66</td>\n",
       "      <td>forget price action for 2 mins  this chart in...</td>\n",
       "      <td>0</td>\n",
       "    </tr>\n",
       "  </tbody>\n",
       "</table>\n",
       "</div>"
      ],
      "text/plain": [
       "       screen_name  followers  following  verified  tweet_count  \\\n",
       "0  itsjohnnytrades        462         73     False          545   \n",
       "1   aicryptotrade1        171         87     False          848   \n",
       "2     ___reivax___        131        296     False          862   \n",
       "3       Horstvault       2782         63     False         3748   \n",
       "4         keshvism        142       1855     False          874   \n",
       "\n",
       "   default_prof_img  user_mentions  linked_urls has_#  \\\n",
       "0             False              1            0    no   \n",
       "1             False              1            0    no   \n",
       "2             False              1            0    no   \n",
       "3             False              1            0    no   \n",
       "4             False              1            0    no   \n",
       "\n",
       "   time_to_respond_minutes  account_age_days  follwers_to_following_ratio  \\\n",
       "0                      100              1152                         6.33   \n",
       "1                       76                50                         1.97   \n",
       "2                       60              2448                         0.44   \n",
       "3                       53               816                        44.16   \n",
       "4                       49              1324                         0.08   \n",
       "\n",
       "   avg_tweets_per_day                                         clean_text  \\\n",
       "0                0.47   big crypto accounts starting to look for bear...   \n",
       "1               16.96   first 28 2k then 29k then 32k this is the roa...   \n",
       "2                0.35      this looks like a beautiful bob ross painting   \n",
       "3                4.59   his do you get a chart that shows you the rea...   \n",
       "4                0.66   forget price action for 2 mins  this chart in...   \n",
       "\n",
       "   is_bot?  \n",
       "0        0  \n",
       "1        0  \n",
       "2        0  \n",
       "3        0  \n",
       "4        0  "
      ]
     },
     "execution_count": 131,
     "metadata": {},
     "output_type": "execute_result"
    }
   ],
   "source": [
    "df.head()"
   ]
  },
  {
   "cell_type": "code",
   "execution_count": 132,
   "metadata": {},
   "outputs": [],
   "source": [
    "df_text = df['clean_text']"
   ]
  },
  {
   "cell_type": "code",
   "execution_count": 142,
   "metadata": {},
   "outputs": [
    {
     "data": {
      "text/plain": [
       "202"
      ]
     },
     "execution_count": 142,
     "metadata": {},
     "output_type": "execute_result"
    }
   ],
   "source": [
    "len(df_text)"
   ]
  },
  {
   "cell_type": "code",
   "execution_count": 133,
   "metadata": {},
   "outputs": [
    {
     "data": {
      "text/plain": [
       "0      0\n",
       "1      0\n",
       "2      0\n",
       "3      0\n",
       "4      0\n",
       "      ..\n",
       "197    0\n",
       "198    1\n",
       "199    0\n",
       "200    1\n",
       "201    1\n",
       "Name: is_bot?, Length: 202, dtype: int64"
      ]
     },
     "execution_count": 133,
     "metadata": {},
     "output_type": "execute_result"
    }
   ],
   "source": [
    "y"
   ]
  },
  {
   "cell_type": "code",
   "execution_count": 143,
   "metadata": {},
   "outputs": [],
   "source": [
    "X_train,X_test,y_train,y_test = train_test_split(df_text,y,test_size=.2,random_state=42)"
   ]
  },
  {
   "cell_type": "code",
   "execution_count": 148,
   "metadata": {},
   "outputs": [],
   "source": [
    "import tensorflow as tf\n",
    "from tensorflow.keras.layers import TextVectorization"
   ]
  },
  {
   "cell_type": "code",
   "execution_count": 150,
   "metadata": {},
   "outputs": [
    {
     "data": {
      "text/plain": [
       "12"
      ]
     },
     "execution_count": 150,
     "metadata": {},
     "output_type": "execute_result"
    }
   ],
   "source": [
    "# Avg number of words in training tweets\n",
    "round(sum([len(i.split()) for i in X_train])/len(X_train))"
   ]
  },
  {
   "cell_type": "code",
   "execution_count": 151,
   "metadata": {},
   "outputs": [],
   "source": [
    "max_vocab_length= 300\n",
    "max_length= 15\n",
    "\n",
    "text_vectorizer = TextVectorization(max_tokens=max_vocab_length,output_mode='int', output_sequence_length=max_length)\n",
    "text_vectorizer.adapt(X_train)"
   ]
  },
  {
   "cell_type": "code",
   "execution_count": 153,
   "metadata": {},
   "outputs": [
    {
     "name": "stdout",
     "output_type": "stream",
     "text": [
      "Original text:\n",
      " gm johnny  positivity received           \n",
      "\n",
      "Vectorized version:\n"
     ]
    },
    {
     "data": {
      "text/plain": [
       "<tf.Tensor: shape=(1, 15), dtype=int64, numpy=\n",
       "array([[ 47, 161,   1, 152,   0,   0,   0,   0,   0,   0,   0,   0,   0,\n",
       "          0,   0]], dtype=int64)>"
      ]
     },
     "execution_count": 153,
     "metadata": {},
     "output_type": "execute_result"
    }
   ],
   "source": [
    "import random\n",
    "\n",
    "# Choose a random sentence from the training dataset and tokenize it\n",
    "random_sentence = random.choice(X_train)\n",
    "print(f\"Original text:\\n{random_sentence}\\\n",
    "      \\n\\nVectorized version:\")\n",
    "text_vectorizer([random_sentence])"
   ]
  },
  {
   "cell_type": "code",
   "execution_count": 154,
   "metadata": {},
   "outputs": [
    {
     "name": "stdout",
     "output_type": "stream",
     "text": [
      "Number of words in vocab: 300\n",
      "Top 5 words: ['', '[UNK]', 'to', 'the', 'i']\n",
      "Bottom 5 words: ['verify', 've', 'van', 'using', 'use']\n"
     ]
    }
   ],
   "source": [
    "words_in_vocab = text_vectorizer.get_vocabulary()\n",
    "top_5_words = words_in_vocab[:5]\n",
    "bottom_5_words = words_in_vocab[-5:]\n",
    "print(f\"Number of words in vocab: {len(words_in_vocab)}\")\n",
    "print(f\"Top 5 words: {top_5_words}\")\n",
    "print(f\"Bottom 5 words: {bottom_5_words}\")"
   ]
  },
  {
   "cell_type": "code",
   "execution_count": 157,
   "metadata": {},
   "outputs": [
    {
     "data": {
      "text/plain": [
       "<keras.layers.core.embedding.Embedding at 0x1cd1a2adb08>"
      ]
     },
     "execution_count": 157,
     "metadata": {},
     "output_type": "execute_result"
    }
   ],
   "source": [
    "tf.random.set_seed(42)\n",
    "\n",
    "from tensorflow.keras import layers\n",
    "\n",
    "embedding = layers.Embedding(input_dim = max_vocab_length,\n",
    "                             output_dim =128,\n",
    "                             input_length=max_length,\n",
    "                             name = 'embedding_1')\n",
    "\n",
    "embedding"
   ]
  },
  {
   "cell_type": "code",
   "execution_count": 158,
   "metadata": {},
   "outputs": [
    {
     "name": "stdout",
     "output_type": "stream",
     "text": [
      "Original text:\n",
      " elon is something to plan with dodge   big things are coming      \n",
      "\n",
      "Embedded version:\n"
     ]
    },
    {
     "data": {
      "text/plain": [
       "<tf.Tensor: shape=(1, 15, 128), dtype=float32, numpy=\n",
       "array([[[-0.0258246 ,  0.01352644,  0.00442461, ...,  0.00794672,\n",
       "         -0.04759842, -0.04997262],\n",
       "        [ 0.04891661,  0.0368566 ,  0.00303916, ...,  0.00793499,\n",
       "          0.03340656,  0.03416153],\n",
       "        [ 0.00999719,  0.03338546, -0.04534726, ..., -0.03066843,\n",
       "         -0.00719974, -0.04758834],\n",
       "        ...,\n",
       "        [-0.04543213, -0.02375405, -0.04684446, ..., -0.02164778,\n",
       "          0.02457779,  0.01708395],\n",
       "        [-0.04543213, -0.02375405, -0.04684446, ..., -0.02164778,\n",
       "          0.02457779,  0.01708395],\n",
       "        [-0.04543213, -0.02375405, -0.04684446, ..., -0.02164778,\n",
       "          0.02457779,  0.01708395]]], dtype=float32)>"
      ]
     },
     "execution_count": 158,
     "metadata": {},
     "output_type": "execute_result"
    }
   ],
   "source": [
    "# Get a random sentence from training set\n",
    "random_sentence = random.choice(X_train)\n",
    "print(f\"Original text:\\n{random_sentence}\\\n",
    "      \\n\\nEmbedded version:\")\n",
    "\n",
    "# Embed the random sentence (turn it into numerical representation)\n",
    "sample_embed = embedding(text_vectorizer([random_sentence]))\n",
    "sample_embed"
   ]
  },
  {
   "cell_type": "code",
   "execution_count": 159,
   "metadata": {},
   "outputs": [],
   "source": [
    "from sklearn.feature_extraction.text import TfidfVectorizer\n",
    "from sklearn.naive_bayes import MultinomialNB\n",
    "from sklearn.pipeline import Pipeline"
   ]
  },
  {
   "cell_type": "code",
   "execution_count": 160,
   "metadata": {},
   "outputs": [
    {
     "data": {
      "text/plain": [
       "Pipeline(steps=[('tfidf', TfidfVectorizer()), ('clf', MultinomialNB())])"
      ]
     },
     "execution_count": 160,
     "metadata": {},
     "output_type": "execute_result"
    }
   ],
   "source": [
    "model_0 = Pipeline([\n",
    "    ('tfidf',TfidfVectorizer()),\n",
    "    ('clf',MultinomialNB())\n",
    "])\n",
    "\n",
    "model_0.fit(X_train,y_train)"
   ]
  },
  {
   "cell_type": "code",
   "execution_count": 161,
   "metadata": {},
   "outputs": [
    {
     "data": {
      "text/plain": [
       "0.8292682926829268"
      ]
     },
     "execution_count": 161,
     "metadata": {},
     "output_type": "execute_result"
    }
   ],
   "source": [
    "model_0.score(X_test,y_test)"
   ]
  },
  {
   "cell_type": "code",
   "execution_count": 162,
   "metadata": {},
   "outputs": [],
   "source": [
    "baseline_score = model_0.score(X_test,y_test)"
   ]
  },
  {
   "cell_type": "code",
   "execution_count": 163,
   "metadata": {},
   "outputs": [],
   "source": [
    "# Function to evaluate: accuracy, precision, recall, f1-score\n",
    "from sklearn.metrics import accuracy_score, precision_recall_fscore_support\n",
    "\n",
    "def calculate_results(y_true, y_pred):\n",
    "  \"\"\"\n",
    "  Calculates model accuracy, precision, recall and f1 score of a binary classification model.\n",
    "\n",
    "  Args:\n",
    "  -----\n",
    "  y_true = true labels in the form of a 1D array\n",
    "  y_pred = predicted labels in the form of a 1D array\n",
    "\n",
    "  Returns a dictionary of accuracy, precision, recall, f1-score.\n",
    "  \"\"\"\n",
    "  # Calculate model accuracy\n",
    "  model_accuracy = accuracy_score(y_true, y_pred) * 100\n",
    "  # Calculate model precision, recall and f1 score using \"weighted\" average\n",
    "  model_precision, model_recall, model_f1, _ = precision_recall_fscore_support(y_true, y_pred, average=\"weighted\")\n",
    "  model_results = {\"accuracy\": model_accuracy,\n",
    "                  \"precision\": model_precision,\n",
    "                  \"recall\": model_recall,\n",
    "                  \"f1\": model_f1}\n",
    "  return model_results"
   ]
  },
  {
   "cell_type": "code",
   "execution_count": 165,
   "metadata": {},
   "outputs": [],
   "source": [
    "baseline_preds = model_0.predict(X_test)"
   ]
  },
  {
   "cell_type": "code",
   "execution_count": 167,
   "metadata": {},
   "outputs": [
    {
     "data": {
      "text/plain": [
       "{'accuracy': 82.92682926829268,\n",
       " 'precision': 0.8591463414634145,\n",
       " 'recall': 0.8292682926829268,\n",
       " 'f1': 0.771058395515462}"
      ]
     },
     "execution_count": 167,
     "metadata": {},
     "output_type": "execute_result"
    }
   ],
   "source": [
    "baseline_results = calculate_results(y_true =y_test, y_pred=baseline_preds)\n",
    "baseline_results"
   ]
  },
  {
   "cell_type": "code",
   "execution_count": 168,
   "metadata": {},
   "outputs": [],
   "source": [
    "inputs = layers.Input(shape=(1,),dtype='string')\n",
    "x = text_vectorizer(inputs)\n",
    "x = embedding(x)\n",
    "x = layers.GlobalAveragePooling1D()(x)\n",
    "outputs = layers.Dense(1, activation='sigmoid')(x)\n",
    "model_1 = tf.keras.Model(inputs,outputs, name='model_1')"
   ]
  },
  {
   "cell_type": "code",
   "execution_count": 170,
   "metadata": {},
   "outputs": [
    {
     "name": "stdout",
     "output_type": "stream",
     "text": [
      "Epoch 1/50\n",
      "6/6 [==============================] - 1s 27ms/step - loss: 0.5251 - accuracy: 0.8882 - val_loss: 0.5420 - val_accuracy: 0.8049\n",
      "Epoch 2/50\n",
      "6/6 [==============================] - 0s 5ms/step - loss: 0.4954 - accuracy: 0.8882 - val_loss: 0.5207 - val_accuracy: 0.8049\n",
      "Epoch 3/50\n",
      "6/6 [==============================] - 0s 5ms/step - loss: 0.4675 - accuracy: 0.8882 - val_loss: 0.5017 - val_accuracy: 0.8049\n",
      "Epoch 4/50\n",
      "6/6 [==============================] - 0s 5ms/step - loss: 0.4414 - accuracy: 0.8882 - val_loss: 0.4841 - val_accuracy: 0.8049\n",
      "Epoch 5/50\n",
      "6/6 [==============================] - 0s 6ms/step - loss: 0.4161 - accuracy: 0.8882 - val_loss: 0.4681 - val_accuracy: 0.8049\n",
      "Epoch 6/50\n",
      "6/6 [==============================] - 0s 6ms/step - loss: 0.3919 - accuracy: 0.8882 - val_loss: 0.4538 - val_accuracy: 0.8049\n",
      "Epoch 7/50\n",
      "6/6 [==============================] - 0s 5ms/step - loss: 0.3690 - accuracy: 0.8882 - val_loss: 0.4415 - val_accuracy: 0.8049\n",
      "Epoch 8/50\n",
      "6/6 [==============================] - 0s 5ms/step - loss: 0.3493 - accuracy: 0.8882 - val_loss: 0.4313 - val_accuracy: 0.8049\n",
      "Epoch 9/50\n",
      "6/6 [==============================] - 0s 5ms/step - loss: 0.3310 - accuracy: 0.8882 - val_loss: 0.4223 - val_accuracy: 0.8049\n",
      "Epoch 10/50\n",
      "6/6 [==============================] - 0s 5ms/step - loss: 0.3147 - accuracy: 0.8882 - val_loss: 0.4135 - val_accuracy: 0.8049\n",
      "Epoch 11/50\n",
      "6/6 [==============================] - 0s 5ms/step - loss: 0.2983 - accuracy: 0.8882 - val_loss: 0.4055 - val_accuracy: 0.8049\n",
      "Epoch 12/50\n",
      "6/6 [==============================] - 0s 5ms/step - loss: 0.2830 - accuracy: 0.8882 - val_loss: 0.3986 - val_accuracy: 0.8049\n",
      "Epoch 13/50\n",
      "6/6 [==============================] - 0s 5ms/step - loss: 0.2690 - accuracy: 0.8882 - val_loss: 0.3935 - val_accuracy: 0.8049\n",
      "Epoch 14/50\n",
      "6/6 [==============================] - 0s 5ms/step - loss: 0.2565 - accuracy: 0.8944 - val_loss: 0.3884 - val_accuracy: 0.8049\n",
      "Epoch 15/50\n",
      "6/6 [==============================] - 0s 5ms/step - loss: 0.2452 - accuracy: 0.9006 - val_loss: 0.3842 - val_accuracy: 0.8049\n",
      "Epoch 16/50\n",
      "6/6 [==============================] - 0s 5ms/step - loss: 0.2345 - accuracy: 0.9006 - val_loss: 0.3802 - val_accuracy: 0.8049\n",
      "Epoch 17/50\n",
      "6/6 [==============================] - 0s 5ms/step - loss: 0.2246 - accuracy: 0.9068 - val_loss: 0.3765 - val_accuracy: 0.8049\n",
      "Epoch 18/50\n",
      "6/6 [==============================] - 0s 7ms/step - loss: 0.2156 - accuracy: 0.9068 - val_loss: 0.3728 - val_accuracy: 0.8049\n",
      "Epoch 19/50\n",
      "6/6 [==============================] - 0s 6ms/step - loss: 0.2074 - accuracy: 0.9068 - val_loss: 0.3674 - val_accuracy: 0.8049\n",
      "Epoch 20/50\n",
      "6/6 [==============================] - 0s 5ms/step - loss: 0.1996 - accuracy: 0.9255 - val_loss: 0.3631 - val_accuracy: 0.8293\n",
      "Epoch 21/50\n",
      "6/6 [==============================] - 0s 5ms/step - loss: 0.1921 - accuracy: 0.9317 - val_loss: 0.3598 - val_accuracy: 0.8537\n",
      "Epoch 22/50\n",
      "6/6 [==============================] - 0s 5ms/step - loss: 0.1853 - accuracy: 0.9379 - val_loss: 0.3575 - val_accuracy: 0.8537\n",
      "Epoch 23/50\n",
      "6/6 [==============================] - 0s 5ms/step - loss: 0.1790 - accuracy: 0.9379 - val_loss: 0.3540 - val_accuracy: 0.8537\n",
      "Epoch 24/50\n",
      "6/6 [==============================] - 0s 5ms/step - loss: 0.1722 - accuracy: 0.9379 - val_loss: 0.3514 - val_accuracy: 0.8537\n",
      "Epoch 25/50\n",
      "6/6 [==============================] - 0s 5ms/step - loss: 0.1663 - accuracy: 0.9379 - val_loss: 0.3492 - val_accuracy: 0.8537\n",
      "Epoch 26/50\n",
      "6/6 [==============================] - 0s 5ms/step - loss: 0.1610 - accuracy: 0.9379 - val_loss: 0.3468 - val_accuracy: 0.8537\n",
      "Epoch 27/50\n",
      "6/6 [==============================] - 0s 5ms/step - loss: 0.1559 - accuracy: 0.9379 - val_loss: 0.3444 - val_accuracy: 0.8537\n",
      "Epoch 28/50\n",
      "6/6 [==============================] - 0s 5ms/step - loss: 0.1511 - accuracy: 0.9441 - val_loss: 0.3421 - val_accuracy: 0.8537\n",
      "Epoch 29/50\n",
      "6/6 [==============================] - 0s 7ms/step - loss: 0.1463 - accuracy: 0.9441 - val_loss: 0.3396 - val_accuracy: 0.8537\n",
      "Epoch 30/50\n",
      "6/6 [==============================] - 0s 6ms/step - loss: 0.1418 - accuracy: 0.9441 - val_loss: 0.3376 - val_accuracy: 0.8537\n",
      "Epoch 31/50\n",
      "6/6 [==============================] - 0s 4ms/step - loss: 0.1373 - accuracy: 0.9441 - val_loss: 0.3345 - val_accuracy: 0.8780\n",
      "Epoch 32/50\n",
      "6/6 [==============================] - 0s 5ms/step - loss: 0.1325 - accuracy: 0.9441 - val_loss: 0.3292 - val_accuracy: 0.8780\n",
      "Epoch 33/50\n",
      "6/6 [==============================] - 0s 5ms/step - loss: 0.1284 - accuracy: 0.9503 - val_loss: 0.3257 - val_accuracy: 0.8780\n",
      "Epoch 34/50\n",
      "6/6 [==============================] - 0s 5ms/step - loss: 0.1246 - accuracy: 0.9503 - val_loss: 0.3223 - val_accuracy: 0.8780\n",
      "Epoch 35/50\n",
      "6/6 [==============================] - 0s 5ms/step - loss: 0.1206 - accuracy: 0.9565 - val_loss: 0.3174 - val_accuracy: 0.8780\n",
      "Epoch 36/50\n",
      "6/6 [==============================] - 0s 5ms/step - loss: 0.1164 - accuracy: 0.9814 - val_loss: 0.3144 - val_accuracy: 0.8780\n",
      "Epoch 37/50\n",
      "6/6 [==============================] - 0s 5ms/step - loss: 0.1126 - accuracy: 0.9814 - val_loss: 0.3127 - val_accuracy: 0.8780\n",
      "Epoch 38/50\n",
      "6/6 [==============================] - 0s 5ms/step - loss: 0.1091 - accuracy: 0.9876 - val_loss: 0.3108 - val_accuracy: 0.8780\n",
      "Epoch 39/50\n",
      "6/6 [==============================] - 0s 5ms/step - loss: 0.1056 - accuracy: 0.9876 - val_loss: 0.3087 - val_accuracy: 0.8780\n",
      "Epoch 40/50\n",
      "6/6 [==============================] - 0s 5ms/step - loss: 0.1021 - accuracy: 0.9938 - val_loss: 0.3067 - val_accuracy: 0.8780\n",
      "Epoch 41/50\n",
      "6/6 [==============================] - 0s 5ms/step - loss: 0.0990 - accuracy: 0.9938 - val_loss: 0.3027 - val_accuracy: 0.8780\n",
      "Epoch 42/50\n",
      "6/6 [==============================] - 0s 6ms/step - loss: 0.0956 - accuracy: 0.9938 - val_loss: 0.3004 - val_accuracy: 0.8537\n",
      "Epoch 43/50\n",
      "6/6 [==============================] - 0s 6ms/step - loss: 0.0928 - accuracy: 0.9938 - val_loss: 0.2985 - val_accuracy: 0.8537\n",
      "Epoch 44/50\n",
      "6/6 [==============================] - 0s 5ms/step - loss: 0.0900 - accuracy: 0.9938 - val_loss: 0.2973 - val_accuracy: 0.8537\n",
      "Epoch 45/50\n",
      "6/6 [==============================] - 0s 5ms/step - loss: 0.0873 - accuracy: 0.9938 - val_loss: 0.2966 - val_accuracy: 0.8537\n",
      "Epoch 46/50\n",
      "6/6 [==============================] - 0s 5ms/step - loss: 0.0848 - accuracy: 0.9938 - val_loss: 0.2969 - val_accuracy: 0.8537\n",
      "Epoch 47/50\n",
      "6/6 [==============================] - 0s 5ms/step - loss: 0.0823 - accuracy: 0.9938 - val_loss: 0.2970 - val_accuracy: 0.8537\n",
      "Epoch 48/50\n",
      "6/6 [==============================] - 0s 5ms/step - loss: 0.0800 - accuracy: 0.9938 - val_loss: 0.2968 - val_accuracy: 0.8537\n",
      "Epoch 49/50\n",
      "6/6 [==============================] - 0s 5ms/step - loss: 0.0778 - accuracy: 0.9938 - val_loss: 0.2964 - val_accuracy: 0.8537\n",
      "Epoch 50/50\n",
      "6/6 [==============================] - 0s 5ms/step - loss: 0.0758 - accuracy: 0.9938 - val_loss: 0.2960 - val_accuracy: 0.8537\n"
     ]
    }
   ],
   "source": [
    "model_1.compile(loss='binary_crossentropy',\n",
    "                optimizer = tf.keras.optimizers.Adam(),\n",
    "                metrics=['accuracy'])\n",
    "\n",
    "model_1_history = model_1.fit(X_train,y_train, epochs= 50, validation_data=(X_test,y_test))"
   ]
  },
  {
   "cell_type": "code",
   "execution_count": 171,
   "metadata": {},
   "outputs": [
    {
     "name": "stdout",
     "output_type": "stream",
     "text": [
      "2/2 [==============================] - 0s 3ms/step - loss: 0.2960 - accuracy: 0.8537\n"
     ]
    },
    {
     "data": {
      "text/plain": [
       "[0.2959907352924347, 0.8536585569381714]"
      ]
     },
     "execution_count": 171,
     "metadata": {},
     "output_type": "execute_result"
    }
   ],
   "source": [
    "model_1.evaluate(X_test,y_test)"
   ]
  },
  {
   "cell_type": "code",
   "execution_count": 172,
   "metadata": {},
   "outputs": [
    {
     "name": "stdout",
     "output_type": "stream",
     "text": [
      "2/2 [==============================] - 0s 2ms/step\n"
     ]
    }
   ],
   "source": [
    "model_1_pred_probs = model_1.predict(X_test)\n",
    "model_1_preds = tf.round(model_1_pred_probs)"
   ]
  },
  {
   "cell_type": "code",
   "execution_count": 174,
   "metadata": {},
   "outputs": [
    {
     "data": {
      "text/plain": [
       "<tf.Tensor: shape=(5, 1), dtype=float32, numpy=\n",
       "array([[0.],\n",
       "       [0.],\n",
       "       [0.],\n",
       "       [0.],\n",
       "       [0.]], dtype=float32)>"
      ]
     },
     "execution_count": 174,
     "metadata": {},
     "output_type": "execute_result"
    }
   ],
   "source": [
    "model_1_preds[:5]"
   ]
  },
  {
   "cell_type": "code",
   "execution_count": 176,
   "metadata": {},
   "outputs": [
    {
     "data": {
      "text/plain": [
       "{'accuracy': 85.36585365853658,\n",
       " 'precision': 0.8424522083058669,\n",
       " 'recall': 0.8536585365853658,\n",
       " 'f1': 0.8334494773519163}"
      ]
     },
     "execution_count": 176,
     "metadata": {},
     "output_type": "execute_result"
    }
   ],
   "source": [
    "model_1_results = calculate_results(y_true=y_test, y_pred=model_1_preds)\n",
    "model_1_results"
   ]
  },
  {
   "cell_type": "code",
   "execution_count": 183,
   "metadata": {},
   "outputs": [
    {
     "name": "stdout",
     "output_type": "stream",
     "text": [
      "(None, 15, 128)\n",
      "(None, 64)\n"
     ]
    }
   ],
   "source": [
    "tf.random.set_seed(42)\n",
    "\n",
    "model_2_embedding = layers.Embedding(input_dim=max_vocab_length,output_dim=128,\n",
    "                                     input_length=max_length,name='embedding_2')\n",
    "\n",
    "inputs = layers.Input(shape=(1,),dtype='string')\n",
    "x= text_vectorizer(inputs)\n",
    "x = model_2_embedding(x)\n",
    "print(x.shape)\n",
    "x = layers.LSTM(64)(x)\n",
    "print(x.shape)\n",
    "outputs=layers.Dense(1,activation='sigmoid')(x)\n",
    "model_2= tf.keras.Model(inputs,outputs,name ='model_2_LSTM')"
   ]
  },
  {
   "cell_type": "code",
   "execution_count": 184,
   "metadata": {},
   "outputs": [
    {
     "name": "stdout",
     "output_type": "stream",
     "text": [
      "Epoch 1/25\n",
      "6/6 [==============================] - 2s 66ms/step - loss: 0.6505 - accuracy: 0.7888 - val_loss: 0.5937 - val_accuracy: 0.8049\n",
      "Epoch 2/25\n",
      "6/6 [==============================] - 0s 8ms/step - loss: 0.5286 - accuracy: 0.7888 - val_loss: 0.4658 - val_accuracy: 0.8049\n",
      "Epoch 3/25\n",
      "6/6 [==============================] - 0s 8ms/step - loss: 0.3763 - accuracy: 0.7888 - val_loss: 0.4039 - val_accuracy: 0.8049\n",
      "Epoch 4/25\n",
      "6/6 [==============================] - 0s 7ms/step - loss: 0.3099 - accuracy: 0.8199 - val_loss: 0.5140 - val_accuracy: 0.8049\n",
      "Epoch 5/25\n",
      "6/6 [==============================] - 0s 8ms/step - loss: 0.2911 - accuracy: 0.8634 - val_loss: 0.4257 - val_accuracy: 0.8049\n",
      "Epoch 6/25\n",
      "6/6 [==============================] - 0s 8ms/step - loss: 0.2102 - accuracy: 0.8944 - val_loss: 0.3347 - val_accuracy: 0.8293\n",
      "Epoch 7/25\n",
      "6/6 [==============================] - 0s 7ms/step - loss: 0.1480 - accuracy: 0.9565 - val_loss: 0.3050 - val_accuracy: 0.8780\n",
      "Epoch 8/25\n",
      "6/6 [==============================] - 0s 8ms/step - loss: 0.0783 - accuracy: 0.9876 - val_loss: 0.3899 - val_accuracy: 0.9024\n",
      "Epoch 9/25\n",
      "6/6 [==============================] - 0s 8ms/step - loss: 0.0425 - accuracy: 0.9938 - val_loss: 0.4379 - val_accuracy: 0.9024\n",
      "Epoch 10/25\n",
      "6/6 [==============================] - 0s 8ms/step - loss: 0.0288 - accuracy: 0.9938 - val_loss: 0.5051 - val_accuracy: 0.9024\n",
      "Epoch 11/25\n",
      "6/6 [==============================] - 0s 8ms/step - loss: 0.0171 - accuracy: 1.0000 - val_loss: 0.5406 - val_accuracy: 0.9024\n",
      "Epoch 12/25\n",
      "6/6 [==============================] - 0s 8ms/step - loss: 0.0108 - accuracy: 1.0000 - val_loss: 0.5242 - val_accuracy: 0.9024\n",
      "Epoch 13/25\n",
      "6/6 [==============================] - 0s 8ms/step - loss: 0.0077 - accuracy: 1.0000 - val_loss: 0.5119 - val_accuracy: 0.9024\n",
      "Epoch 14/25\n",
      "6/6 [==============================] - 0s 8ms/step - loss: 0.0060 - accuracy: 1.0000 - val_loss: 0.5083 - val_accuracy: 0.9024\n",
      "Epoch 15/25\n",
      "6/6 [==============================] - 0s 8ms/step - loss: 0.0048 - accuracy: 1.0000 - val_loss: 0.5128 - val_accuracy: 0.9024\n",
      "Epoch 16/25\n",
      "6/6 [==============================] - 0s 8ms/step - loss: 0.0039 - accuracy: 1.0000 - val_loss: 0.5156 - val_accuracy: 0.9024\n",
      "Epoch 17/25\n",
      "6/6 [==============================] - 0s 7ms/step - loss: 0.0032 - accuracy: 1.0000 - val_loss: 0.5197 - val_accuracy: 0.9024\n",
      "Epoch 18/25\n",
      "6/6 [==============================] - 0s 8ms/step - loss: 0.0028 - accuracy: 1.0000 - val_loss: 0.5257 - val_accuracy: 0.9024\n",
      "Epoch 19/25\n",
      "6/6 [==============================] - 0s 8ms/step - loss: 0.0024 - accuracy: 1.0000 - val_loss: 0.5311 - val_accuracy: 0.9024\n",
      "Epoch 20/25\n",
      "6/6 [==============================] - 0s 7ms/step - loss: 0.0022 - accuracy: 1.0000 - val_loss: 0.5381 - val_accuracy: 0.9024\n",
      "Epoch 21/25\n",
      "6/6 [==============================] - 0s 8ms/step - loss: 0.0019 - accuracy: 1.0000 - val_loss: 0.5457 - val_accuracy: 0.9024\n",
      "Epoch 22/25\n",
      "6/6 [==============================] - 0s 8ms/step - loss: 0.0018 - accuracy: 1.0000 - val_loss: 0.5540 - val_accuracy: 0.9024\n",
      "Epoch 23/25\n",
      "6/6 [==============================] - 0s 7ms/step - loss: 0.0016 - accuracy: 1.0000 - val_loss: 0.5609 - val_accuracy: 0.9024\n",
      "Epoch 24/25\n",
      "6/6 [==============================] - 0s 7ms/step - loss: 0.0015 - accuracy: 1.0000 - val_loss: 0.5686 - val_accuracy: 0.9024\n",
      "Epoch 25/25\n",
      "6/6 [==============================] - 0s 7ms/step - loss: 0.0013 - accuracy: 1.0000 - val_loss: 0.5768 - val_accuracy: 0.9024\n"
     ]
    }
   ],
   "source": [
    "model_2.compile(loss='binary_crossentropy',\n",
    "                optimizer = tf.keras.optimizers.Adam(),\n",
    "                metrics=['accuracy'])\n",
    "\n",
    "model_2_history = model_2.fit(X_train,y_train, epochs = 25, validation_data=(X_test,y_test))"
   ]
  },
  {
   "cell_type": "code",
   "execution_count": 185,
   "metadata": {},
   "outputs": [
    {
     "name": "stdout",
     "output_type": "stream",
     "text": [
      "2/2 [==============================] - 0s 3ms/step - loss: 0.5768 - accuracy: 0.9024\n"
     ]
    },
    {
     "data": {
      "text/plain": [
       "[0.5768389105796814, 0.9024389982223511]"
      ]
     },
     "execution_count": 185,
     "metadata": {},
     "output_type": "execute_result"
    }
   ],
   "source": [
    "model_2.evaluate(X_test,y_test)"
   ]
  },
  {
   "cell_type": "code",
   "execution_count": 187,
   "metadata": {},
   "outputs": [
    {
     "name": "stdout",
     "output_type": "stream",
     "text": [
      "2/2 [==============================] - 0s 3ms/step\n"
     ]
    },
    {
     "data": {
      "text/plain": [
       "{'accuracy': 90.2439024390244,\n",
       " 'precision': 0.8984901277584204,\n",
       " 'recall': 0.9024390243902439,\n",
       " 'f1': 0.8969051035048167}"
      ]
     },
     "execution_count": 187,
     "metadata": {},
     "output_type": "execute_result"
    }
   ],
   "source": [
    "model_2_pred_probs = model_2.predict(X_test)\n",
    "model_2_preds = tf.round(model_2_pred_probs)\n",
    "\n",
    "model_2_results = calculate_results(y_true=y_test, y_pred= model_2_preds)\n",
    "model_2_results"
   ]
  },
  {
   "cell_type": "code",
   "execution_count": null,
   "metadata": {},
   "outputs": [],
   "source": []
  }
 ],
 "metadata": {
  "kernelspec": {
   "display_name": "dev",
   "language": "python",
   "name": "python3"
  },
  "language_info": {
   "codemirror_mode": {
    "name": "ipython",
    "version": 3
   },
   "file_extension": ".py",
   "mimetype": "text/x-python",
   "name": "python",
   "nbconvert_exporter": "python",
   "pygments_lexer": "ipython3",
   "version": "3.7.13"
  },
  "orig_nbformat": 4
 },
 "nbformat": 4,
 "nbformat_minor": 2
}
