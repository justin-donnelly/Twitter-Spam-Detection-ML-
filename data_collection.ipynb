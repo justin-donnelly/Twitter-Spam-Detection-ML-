{
 "cells": [
  {
   "attachments": {},
   "cell_type": "markdown",
   "metadata": {},
   "source": [
    "# Imports, API Object, Retrieving Tweets:"
   ]
  },
  {
   "cell_type": "code",
   "execution_count": 1,
   "metadata": {},
   "outputs": [],
   "source": [
    "import os\n",
    "import requests\n",
    "import json \n",
    "from dotenv import load_dotenv\n",
    "import time\n",
    "load_dotenv()\n",
    "import pandas as pd \n",
    "import csv\n",
    "import tweepy\n",
    "import ssl\n",
    "ssl._create_default_https_context = ssl._create_unverified_context\n",
    "import re\n",
    "import numpy as np"
   ]
  },
  {
   "cell_type": "code",
   "execution_count": 2,
   "metadata": {},
   "outputs": [],
   "source": [
    "twitter_api_key = os.getenv(\"TWITTER_API_KEY\")\n",
    "twitter_secret_key = os.getenv(\"TWITTER_SECRET_KEY\")\n",
    "twitter_access_token = os.getenv(\"TWITTER_ACCESS_TOKEN\")\n",
    "twitter_secret_token = os.getenv(\"TWITTER_SECRET_TOKEN\")"
   ]
  },
  {
   "cell_type": "code",
   "execution_count": 3,
   "metadata": {},
   "outputs": [],
   "source": [
    "def oAuth():\n",
    "    try:\n",
    "        auth = tweepy.OAuthHandler(twitter_api_key,twitter_secret_key)\n",
    "        auth.set_access_token(twitter_access_token,twitter_secret_token)\n",
    "        return auth\n",
    "    except Exception as e:\n",
    "        return None\n",
    "\n",
    "oauth= oAuth()\n",
    "\n",
    "tweepy_api = tweepy.API(oauth)"
   ]
  },
  {
   "cell_type": "code",
   "execution_count": 4,
   "metadata": {},
   "outputs": [],
   "source": [
    "def get_new_tweets(names):\n",
    "    print(\"Retrieving tweets\")\n",
    "    corpus = []                                                                                        \n",
    "    for name in names:\n",
    "        tweets = tweepy_api.user_timeline(screen_name = name, include_rts=False, count=5, tweet_mode=\"extended\", exclude_replies = True)          \n",
    "        time.sleep(4)\n",
    "        corpus.extend(tweets)                                                                          \n",
    "    data = [[tweet.id_str, tweet.user.screen_name, tweet.full_text, tweet.created_at] for tweet in corpus]\n",
    "    tweets = pd.DataFrame(data, columns=['tweet_id', 'screen_name', 'text', 'timestamp'])                \n",
    "\n",
    "    return tweets"
   ]
  },
  {
   "cell_type": "code",
   "execution_count": 5,
   "metadata": {},
   "outputs": [],
   "source": [
    "# Change this to whoever you want\n",
    "screen_names = ['CryptoKaleo']"
   ]
  },
  {
   "cell_type": "code",
   "execution_count": 6,
   "metadata": {},
   "outputs": [
    {
     "name": "stdout",
     "output_type": "stream",
     "text": [
      "Retrieving tweets\n"
     ]
    }
   ],
   "source": [
    "user_tweets = get_new_tweets(screen_names)"
   ]
  },
  {
   "cell_type": "code",
   "execution_count": 7,
   "metadata": {},
   "outputs": [
    {
     "data": {
      "text/html": [
       "<div>\n",
       "<style scoped>\n",
       "    .dataframe tbody tr th:only-of-type {\n",
       "        vertical-align: middle;\n",
       "    }\n",
       "\n",
       "    .dataframe tbody tr th {\n",
       "        vertical-align: top;\n",
       "    }\n",
       "\n",
       "    .dataframe thead th {\n",
       "        text-align: right;\n",
       "    }\n",
       "</style>\n",
       "<table border=\"1\" class=\"dataframe\">\n",
       "  <thead>\n",
       "    <tr style=\"text-align: right;\">\n",
       "      <th></th>\n",
       "      <th>tweet_id</th>\n",
       "      <th>screen_name</th>\n",
       "      <th>text</th>\n",
       "      <th>timestamp</th>\n",
       "    </tr>\n",
       "  </thead>\n",
       "  <tbody>\n",
       "    <tr>\n",
       "      <th>0</th>\n",
       "      <td>1655612006605504513</td>\n",
       "      <td>CryptoKaleo</td>\n",
       "      <td>Majority of CT followers came in 2021 / 2022 s...</td>\n",
       "      <td>2023-05-08 16:33:56+00:00</td>\n",
       "    </tr>\n",
       "    <tr>\n",
       "      <th>1</th>\n",
       "      <td>1655604074614538243</td>\n",
       "      <td>CryptoKaleo</td>\n",
       "      <td>I used to struggle conceptualizing how #Bitcoi...</td>\n",
       "      <td>2023-05-08 16:02:25+00:00</td>\n",
       "    </tr>\n",
       "    <tr>\n",
       "      <th>2</th>\n",
       "      <td>1655592953136525314</td>\n",
       "      <td>CryptoKaleo</td>\n",
       "      <td>I swear man every time I start getting back in...</td>\n",
       "      <td>2023-05-08 15:18:14+00:00</td>\n",
       "    </tr>\n",
       "    <tr>\n",
       "      <th>3</th>\n",
       "      <td>1655592717810900992</td>\n",
       "      <td>CryptoKaleo</td>\n",
       "      <td>GOOODDD MORNING CRYPTO TWITTER</td>\n",
       "      <td>2023-05-08 15:17:18+00:00</td>\n",
       "    </tr>\n",
       "    <tr>\n",
       "      <th>4</th>\n",
       "      <td>1654687332899909632</td>\n",
       "      <td>CryptoKaleo</td>\n",
       "      <td>Love you guys</td>\n",
       "      <td>2023-05-06 03:19:37+00:00</td>\n",
       "    </tr>\n",
       "  </tbody>\n",
       "</table>\n",
       "</div>"
      ],
      "text/plain": [
       "              tweet_id  screen_name  \\\n",
       "0  1655612006605504513  CryptoKaleo   \n",
       "1  1655604074614538243  CryptoKaleo   \n",
       "2  1655592953136525314  CryptoKaleo   \n",
       "3  1655592717810900992  CryptoKaleo   \n",
       "4  1654687332899909632  CryptoKaleo   \n",
       "\n",
       "                                                text                 timestamp  \n",
       "0  Majority of CT followers came in 2021 / 2022 s... 2023-05-08 16:33:56+00:00  \n",
       "1  I used to struggle conceptualizing how #Bitcoi... 2023-05-08 16:02:25+00:00  \n",
       "2  I swear man every time I start getting back in... 2023-05-08 15:18:14+00:00  \n",
       "3                     GOOODDD MORNING CRYPTO TWITTER 2023-05-08 15:17:18+00:00  \n",
       "4                                      Love you guys 2023-05-06 03:19:37+00:00  "
      ]
     },
     "execution_count": 7,
     "metadata": {},
     "output_type": "execute_result"
    }
   ],
   "source": [
    "user_tweets.head()"
   ]
  },
  {
   "attachments": {},
   "cell_type": "markdown",
   "metadata": {},
   "source": [
    "##  Data Exploration, Retrieving Replies, Creating a Dataframe"
   ]
  },
  {
   "attachments": {},
   "cell_type": "markdown",
   "metadata": {},
   "source": [
    "you can copy paste the screen_name and tweet_id from the dataframe above to search the replies of any tweet pulled\n",
    "\n"
   ]
  },
  {
   "cell_type": "code",
   "execution_count": 20,
   "metadata": {},
   "outputs": [],
   "source": [
    "\n",
    "name = 'CryptoKaleo'\n",
    "tweet_id = '1655612006605504513'"
   ]
  },
  {
   "attachments": {},
   "cell_type": "markdown",
   "metadata": {},
   "source": [
    "Result_type can be 'recent', 'popular', 'mixed':\n",
    "\n",
    "* Mixed seems to be the best option to get the highest amount of replies from the query\n",
    "* Not guaranteed to get 'hidden' replies which are often the bot replies"
   ]
  },
  {
   "cell_type": "code",
   "execution_count": 23,
   "metadata": {},
   "outputs": [],
   "source": [
    "replies=[]\n",
    "for tweet in tweepy.Cursor(tweepy_api.search_tweets,q='to:'+name, result_type = 'recent', tweet_mode = 'extended').items(100):\n",
    "    if hasattr(tweet, 'in_reply_to_status_id_str'):\n",
    "        if (tweet.in_reply_to_status_id_str==tweet_id):\n",
    "            replies.append(tweet)"
   ]
  },
  {
   "cell_type": "code",
   "execution_count": 24,
   "metadata": {},
   "outputs": [
    {
     "data": {
      "text/plain": [
       "4"
      ]
     },
     "execution_count": 24,
     "metadata": {},
     "output_type": "execute_result"
    }
   ],
   "source": [
    "len(replies)"
   ]
  },
  {
   "attachments": {},
   "cell_type": "markdown",
   "metadata": {},
   "source": [
    "Text from replies:"
   ]
  },
  {
   "cell_type": "code",
   "execution_count": 25,
   "metadata": {},
   "outputs": [
    {
     "name": "stdout",
     "output_type": "stream",
     "text": [
      "Tweet 0: @CryptoKaleo good..\n",
      "Tweet 1: @CryptoKaleo You want followers who do not actively join Twitter?\n",
      "\n",
      "A community is active and populated. \n",
      "\n",
      "Thinking about it, an account that follows you, no longer on Twitter is a false reading? Or you prefer the statistical record to add up and be counted. \n",
      "\n",
      "Perhaps they could purge the… https://t.co/57TuUUHTqc\n",
      "Tweet 2: @CryptoKaleo This should be done randomly at least twice annually for any accounts inactive for 2 years\n",
      "Tweet 3: @CryptoKaleo It’s almost time to get into $kevin just like when all NFT’s where dropping. All money flowed into @kevintoken so get ready to jump\n"
     ]
    }
   ],
   "source": [
    "for i in range(0,5):\n",
    "    try:\n",
    "        print(f\"Tweet {i}: {replies[i].full_text}\")\n",
    "    except:\n",
    "        pass"
   ]
  },
  {
   "attachments": {},
   "cell_type": "markdown",
   "metadata": {},
   "source": [
    "Get different pieces of info like so:"
   ]
  },
  {
   "cell_type": "code",
   "execution_count": 26,
   "metadata": {},
   "outputs": [
    {
     "name": "stdout",
     "output_type": "stream",
     "text": [
      "Tweet Text: @CryptoKaleo good..\n",
      "Users @: [{'screen_name': 'CryptoKaleo', 'name': 'K A L E O', 'id': 906234475604037637, 'id_str': '906234475604037637', 'indices': [0, 12]}]\n",
      "Account Created At: 2019-09-30 20:15:46+00:00\n",
      "Followers: 1397\n"
     ]
    }
   ],
   "source": [
    "print(f\"Tweet Text: {replies[0].full_text}\")\n",
    "print(f\"Users @: {replies[0].entities['user_mentions']}\")\n",
    "print(f\"Account Created At: {replies[0].user.created_at}\")\n",
    "print(f\"Followers: {replies[0].user.followers_count}\")"
   ]
  },
  {
   "cell_type": "code",
   "execution_count": 27,
   "metadata": {},
   "outputs": [],
   "source": [
    "text = []\n",
    "screen_name = []\n",
    "followers = []\n",
    "following= [] #friends-count\n",
    "account_age = []\n",
    "verified = []\n",
    "tweet_count = [] #statuses count\n",
    "default_profile_image = []\n",
    "user_mentions = []\n",
    "linked_urls = []\n",
    "reply_time = []\n",
    "has_hashtag =[]"
   ]
  },
  {
   "cell_type": "code",
   "execution_count": 28,
   "metadata": {},
   "outputs": [],
   "source": [
    "for i in range(len(replies)):\n",
    "    if '#' in replies[i].full_text:\n",
    "        has_hashtag.append('yes')\n",
    "    else:\n",
    "        has_hashtag.append('no') "
   ]
  },
  {
   "cell_type": "code",
   "execution_count": 29,
   "metadata": {},
   "outputs": [],
   "source": [
    "for i in range(len(replies)):\n",
    "    text.append(replies[i].full_text)\n",
    "    screen_name.append(replies[i].user.screen_name)\n",
    "    followers.append(replies[i].user.followers_count)\n",
    "    following.append(replies[i].user.friends_count)\n",
    "    account_age.append(replies[i].user.created_at)\n",
    "    verified.append(replies[i].user.verified)\n",
    "    tweet_count.append(replies[i].user.statuses_count)\n",
    "    default_profile_image.append(replies[i].user.default_profile_image)\n",
    "    user_mentions.append(len(replies[i].entities['user_mentions'])) # Determines # of user mentions\n",
    "    linked_urls.append(len(replies[i].entities['urls'])) # Determines if they linked a URL\n",
    "    reply_time.append(replies[i].created_at) "
   ]
  },
  {
   "cell_type": "code",
   "execution_count": 30,
   "metadata": {},
   "outputs": [],
   "source": [
    "df = pd.DataFrame(\n",
    "    {'text': text,\n",
    "     'screen_name': screen_name,\n",
    "     'followers':followers,\n",
    "     'following':following,\n",
    "     'account_age': account_age,\n",
    "     'verified': verified,\n",
    "     'tweet_count':tweet_count,\n",
    "     'default_prof_img':default_profile_image,\n",
    "     'user_mentions': user_mentions,\n",
    "     'linked_urls' : linked_urls,\n",
    "     'reply_time': reply_time,\n",
    "     'has_hashtag' : has_hashtag\n",
    "    })"
   ]
  },
  {
   "cell_type": "code",
   "execution_count": 31,
   "metadata": {},
   "outputs": [
    {
     "data": {
      "text/html": [
       "<div>\n",
       "<style scoped>\n",
       "    .dataframe tbody tr th:only-of-type {\n",
       "        vertical-align: middle;\n",
       "    }\n",
       "\n",
       "    .dataframe tbody tr th {\n",
       "        vertical-align: top;\n",
       "    }\n",
       "\n",
       "    .dataframe thead th {\n",
       "        text-align: right;\n",
       "    }\n",
       "</style>\n",
       "<table border=\"1\" class=\"dataframe\">\n",
       "  <thead>\n",
       "    <tr style=\"text-align: right;\">\n",
       "      <th></th>\n",
       "      <th>text</th>\n",
       "      <th>screen_name</th>\n",
       "      <th>followers</th>\n",
       "      <th>following</th>\n",
       "      <th>account_age</th>\n",
       "      <th>verified</th>\n",
       "      <th>tweet_count</th>\n",
       "      <th>default_prof_img</th>\n",
       "      <th>user_mentions</th>\n",
       "      <th>linked_urls</th>\n",
       "      <th>reply_time</th>\n",
       "      <th>has_hashtag</th>\n",
       "    </tr>\n",
       "  </thead>\n",
       "  <tbody>\n",
       "    <tr>\n",
       "      <th>0</th>\n",
       "      <td>@CryptoKaleo good..</td>\n",
       "      <td>hexorangutan</td>\n",
       "      <td>1397</td>\n",
       "      <td>286</td>\n",
       "      <td>2019-09-30 20:15:46+00:00</td>\n",
       "      <td>False</td>\n",
       "      <td>23273</td>\n",
       "      <td>False</td>\n",
       "      <td>1</td>\n",
       "      <td>0</td>\n",
       "      <td>2023-05-08 19:21:20+00:00</td>\n",
       "      <td>no</td>\n",
       "    </tr>\n",
       "    <tr>\n",
       "      <th>1</th>\n",
       "      <td>@CryptoKaleo You want followers who do not act...</td>\n",
       "      <td>MannyMVK</td>\n",
       "      <td>681</td>\n",
       "      <td>1404</td>\n",
       "      <td>2019-02-06 18:27:55+00:00</td>\n",
       "      <td>False</td>\n",
       "      <td>9574</td>\n",
       "      <td>False</td>\n",
       "      <td>1</td>\n",
       "      <td>1</td>\n",
       "      <td>2023-05-08 19:15:06+00:00</td>\n",
       "      <td>no</td>\n",
       "    </tr>\n",
       "    <tr>\n",
       "      <th>2</th>\n",
       "      <td>@CryptoKaleo This should be done randomly at l...</td>\n",
       "      <td>CryptoJeffS</td>\n",
       "      <td>1093</td>\n",
       "      <td>2072</td>\n",
       "      <td>2018-06-17 15:26:45+00:00</td>\n",
       "      <td>False</td>\n",
       "      <td>25928</td>\n",
       "      <td>False</td>\n",
       "      <td>1</td>\n",
       "      <td>0</td>\n",
       "      <td>2023-05-08 17:56:48+00:00</td>\n",
       "      <td>no</td>\n",
       "    </tr>\n",
       "    <tr>\n",
       "      <th>3</th>\n",
       "      <td>@CryptoKaleo It’s almost time to get into $kev...</td>\n",
       "      <td>CryptoPvZ</td>\n",
       "      <td>88</td>\n",
       "      <td>165</td>\n",
       "      <td>2022-05-12 15:11:52+00:00</td>\n",
       "      <td>False</td>\n",
       "      <td>2214</td>\n",
       "      <td>False</td>\n",
       "      <td>2</td>\n",
       "      <td>0</td>\n",
       "      <td>2023-05-08 17:41:41+00:00</td>\n",
       "      <td>no</td>\n",
       "    </tr>\n",
       "  </tbody>\n",
       "</table>\n",
       "</div>"
      ],
      "text/plain": [
       "                                                text   screen_name  followers  \\\n",
       "0                                @CryptoKaleo good..  hexorangutan       1397   \n",
       "1  @CryptoKaleo You want followers who do not act...      MannyMVK        681   \n",
       "2  @CryptoKaleo This should be done randomly at l...   CryptoJeffS       1093   \n",
       "3  @CryptoKaleo It’s almost time to get into $kev...     CryptoPvZ         88   \n",
       "\n",
       "   following               account_age  verified  tweet_count  \\\n",
       "0        286 2019-09-30 20:15:46+00:00     False        23273   \n",
       "1       1404 2019-02-06 18:27:55+00:00     False         9574   \n",
       "2       2072 2018-06-17 15:26:45+00:00     False        25928   \n",
       "3        165 2022-05-12 15:11:52+00:00     False         2214   \n",
       "\n",
       "   default_prof_img  user_mentions  linked_urls                reply_time  \\\n",
       "0             False              1            0 2023-05-08 19:21:20+00:00   \n",
       "1             False              1            1 2023-05-08 19:15:06+00:00   \n",
       "2             False              1            0 2023-05-08 17:56:48+00:00   \n",
       "3             False              2            0 2023-05-08 17:41:41+00:00   \n",
       "\n",
       "  has_hashtag  \n",
       "0          no  \n",
       "1          no  \n",
       "2          no  \n",
       "3          no  "
      ]
     },
     "execution_count": 31,
     "metadata": {},
     "output_type": "execute_result"
    }
   ],
   "source": [
    "df.head()"
   ]
  },
  {
   "attachments": {},
   "cell_type": "markdown",
   "metadata": {},
   "source": [
    "## Data Cleanup, Adding Relevant Columns, Text Cleanup:\n"
   ]
  },
  {
   "cell_type": "code",
   "execution_count": 32,
   "metadata": {},
   "outputs": [],
   "source": [
    "# Set time variable for when the original tweet was tweeted\n",
    "tweet_time = user_tweets['timestamp'][0]"
   ]
  },
  {
   "cell_type": "code",
   "execution_count": 33,
   "metadata": {},
   "outputs": [],
   "source": [
    "# Refers to original tweet creation time from earlier variable\n",
    "df['tweet_time'] = tweet_time"
   ]
  },
  {
   "cell_type": "code",
   "execution_count": 34,
   "metadata": {},
   "outputs": [],
   "source": [
    "# Calculates how long after the tweet was sent, the user replied to the tweet\n",
    "df['time_to_respond_minutes'] = (user_tweets['timestamp'][0] - df['reply_time']).astype('timedelta64[m]')*-1"
   ]
  },
  {
   "cell_type": "code",
   "execution_count": 35,
   "metadata": {},
   "outputs": [
    {
     "data": {
      "text/html": [
       "<div>\n",
       "<style scoped>\n",
       "    .dataframe tbody tr th:only-of-type {\n",
       "        vertical-align: middle;\n",
       "    }\n",
       "\n",
       "    .dataframe tbody tr th {\n",
       "        vertical-align: top;\n",
       "    }\n",
       "\n",
       "    .dataframe thead th {\n",
       "        text-align: right;\n",
       "    }\n",
       "</style>\n",
       "<table border=\"1\" class=\"dataframe\">\n",
       "  <thead>\n",
       "    <tr style=\"text-align: right;\">\n",
       "      <th></th>\n",
       "      <th>text</th>\n",
       "      <th>screen_name</th>\n",
       "      <th>followers</th>\n",
       "      <th>following</th>\n",
       "      <th>account_age</th>\n",
       "      <th>verified</th>\n",
       "      <th>tweet_count</th>\n",
       "      <th>default_prof_img</th>\n",
       "      <th>user_mentions</th>\n",
       "      <th>linked_urls</th>\n",
       "      <th>reply_time</th>\n",
       "      <th>has_hashtag</th>\n",
       "      <th>tweet_time</th>\n",
       "      <th>time_to_respond_minutes</th>\n",
       "    </tr>\n",
       "  </thead>\n",
       "  <tbody>\n",
       "    <tr>\n",
       "      <th>0</th>\n",
       "      <td>@CryptoKaleo good..</td>\n",
       "      <td>hexorangutan</td>\n",
       "      <td>1397</td>\n",
       "      <td>286</td>\n",
       "      <td>2019-09-30 20:15:46+00:00</td>\n",
       "      <td>False</td>\n",
       "      <td>23273</td>\n",
       "      <td>False</td>\n",
       "      <td>1</td>\n",
       "      <td>0</td>\n",
       "      <td>2023-05-08 19:21:20+00:00</td>\n",
       "      <td>no</td>\n",
       "      <td>2023-05-08 16:33:56+00:00</td>\n",
       "      <td>168.0</td>\n",
       "    </tr>\n",
       "    <tr>\n",
       "      <th>1</th>\n",
       "      <td>@CryptoKaleo You want followers who do not act...</td>\n",
       "      <td>MannyMVK</td>\n",
       "      <td>681</td>\n",
       "      <td>1404</td>\n",
       "      <td>2019-02-06 18:27:55+00:00</td>\n",
       "      <td>False</td>\n",
       "      <td>9574</td>\n",
       "      <td>False</td>\n",
       "      <td>1</td>\n",
       "      <td>1</td>\n",
       "      <td>2023-05-08 19:15:06+00:00</td>\n",
       "      <td>no</td>\n",
       "      <td>2023-05-08 16:33:56+00:00</td>\n",
       "      <td>162.0</td>\n",
       "    </tr>\n",
       "    <tr>\n",
       "      <th>2</th>\n",
       "      <td>@CryptoKaleo This should be done randomly at l...</td>\n",
       "      <td>CryptoJeffS</td>\n",
       "      <td>1093</td>\n",
       "      <td>2072</td>\n",
       "      <td>2018-06-17 15:26:45+00:00</td>\n",
       "      <td>False</td>\n",
       "      <td>25928</td>\n",
       "      <td>False</td>\n",
       "      <td>1</td>\n",
       "      <td>0</td>\n",
       "      <td>2023-05-08 17:56:48+00:00</td>\n",
       "      <td>no</td>\n",
       "      <td>2023-05-08 16:33:56+00:00</td>\n",
       "      <td>83.0</td>\n",
       "    </tr>\n",
       "    <tr>\n",
       "      <th>3</th>\n",
       "      <td>@CryptoKaleo It’s almost time to get into $kev...</td>\n",
       "      <td>CryptoPvZ</td>\n",
       "      <td>88</td>\n",
       "      <td>165</td>\n",
       "      <td>2022-05-12 15:11:52+00:00</td>\n",
       "      <td>False</td>\n",
       "      <td>2214</td>\n",
       "      <td>False</td>\n",
       "      <td>2</td>\n",
       "      <td>0</td>\n",
       "      <td>2023-05-08 17:41:41+00:00</td>\n",
       "      <td>no</td>\n",
       "      <td>2023-05-08 16:33:56+00:00</td>\n",
       "      <td>68.0</td>\n",
       "    </tr>\n",
       "  </tbody>\n",
       "</table>\n",
       "</div>"
      ],
      "text/plain": [
       "                                                text   screen_name  followers  \\\n",
       "0                                @CryptoKaleo good..  hexorangutan       1397   \n",
       "1  @CryptoKaleo You want followers who do not act...      MannyMVK        681   \n",
       "2  @CryptoKaleo This should be done randomly at l...   CryptoJeffS       1093   \n",
       "3  @CryptoKaleo It’s almost time to get into $kev...     CryptoPvZ         88   \n",
       "\n",
       "   following               account_age  verified  tweet_count  \\\n",
       "0        286 2019-09-30 20:15:46+00:00     False        23273   \n",
       "1       1404 2019-02-06 18:27:55+00:00     False         9574   \n",
       "2       2072 2018-06-17 15:26:45+00:00     False        25928   \n",
       "3        165 2022-05-12 15:11:52+00:00     False         2214   \n",
       "\n",
       "   default_prof_img  user_mentions  linked_urls                reply_time  \\\n",
       "0             False              1            0 2023-05-08 19:21:20+00:00   \n",
       "1             False              1            1 2023-05-08 19:15:06+00:00   \n",
       "2             False              1            0 2023-05-08 17:56:48+00:00   \n",
       "3             False              2            0 2023-05-08 17:41:41+00:00   \n",
       "\n",
       "  has_hashtag                tweet_time  time_to_respond_minutes  \n",
       "0          no 2023-05-08 16:33:56+00:00                    168.0  \n",
       "1          no 2023-05-08 16:33:56+00:00                    162.0  \n",
       "2          no 2023-05-08 16:33:56+00:00                     83.0  \n",
       "3          no 2023-05-08 16:33:56+00:00                     68.0  "
      ]
     },
     "execution_count": 35,
     "metadata": {},
     "output_type": "execute_result"
    }
   ],
   "source": [
    "df.head()"
   ]
  },
  {
   "cell_type": "code",
   "execution_count": 36,
   "metadata": {},
   "outputs": [],
   "source": [
    "df = df.drop(['tweet_time','reply_time'],axis= 1)"
   ]
  },
  {
   "cell_type": "code",
   "execution_count": 37,
   "metadata": {},
   "outputs": [],
   "source": [
    "# Create a variable for todays date to calculate how old the account is\n",
    "today = pd.Timestamp.now()\n",
    "today = today.date()"
   ]
  },
  {
   "cell_type": "code",
   "execution_count": 38,
   "metadata": {},
   "outputs": [
    {
     "name": "stderr",
     "output_type": "stream",
     "text": [
      "c:\\Users\\Justin\\anaconda3\\envs\\dev\\lib\\site-packages\\ipykernel_launcher.py:5: SettingWithCopyWarning: \n",
      "A value is trying to be set on a copy of a slice from a DataFrame\n",
      "\n",
      "See the caveats in the documentation: https://pandas.pydata.org/pandas-docs/stable/user_guide/indexing.html#returning-a-view-versus-a-copy\n",
      "  \"\"\"\n",
      "c:\\Users\\Justin\\anaconda3\\envs\\dev\\lib\\site-packages\\ipykernel_launcher.py:6: SettingWithCopyWarning: \n",
      "A value is trying to be set on a copy of a slice from a DataFrame\n",
      "\n",
      "See the caveats in the documentation: https://pandas.pydata.org/pandas-docs/stable/user_guide/indexing.html#returning-a-view-versus-a-copy\n",
      "  \n"
     ]
    }
   ],
   "source": [
    "#calculates the accounts age in days\n",
    "\n",
    "df['account_age_days'] = today - df['account_age'][i].date()\n",
    "for i in range(len(replies)):    \n",
    "    df['account_age_days'][i] = today - df['account_age'][i].date()\n",
    "    df['account_age_days'][i] = df['account_age_days'][i].days"
   ]
  },
  {
   "cell_type": "code",
   "execution_count": 39,
   "metadata": {},
   "outputs": [],
   "source": [
    "\n",
    "df['account_age_days'] = df['account_age_days'].astype('float64')"
   ]
  },
  {
   "cell_type": "code",
   "execution_count": 40,
   "metadata": {},
   "outputs": [],
   "source": [
    "\n",
    "df = df.drop(['account_age'],axis= 1)"
   ]
  },
  {
   "attachments": {},
   "cell_type": "markdown",
   "metadata": {},
   "source": [
    "Adding a column for follower to following ratio --> May be helpful"
   ]
  },
  {
   "cell_type": "code",
   "execution_count": 41,
   "metadata": {},
   "outputs": [],
   "source": [
    "\n",
    "df['follwers_to_following_ratio'] = (df['followers']/df['following']).round(2)"
   ]
  },
  {
   "attachments": {},
   "cell_type": "markdown",
   "metadata": {},
   "source": [
    "Adding a column for average tweets per day"
   ]
  },
  {
   "cell_type": "code",
   "execution_count": 42,
   "metadata": {},
   "outputs": [],
   "source": [
    "df['avg_tweets_per_day'] = (df['tweet_count']/df['account_age_days']).round(2)"
   ]
  },
  {
   "attachments": {},
   "cell_type": "markdown",
   "metadata": {},
   "source": [
    "Removes special characters, numbers, links, etc. from tweet text"
   ]
  },
  {
   "cell_type": "code",
   "execution_count": 43,
   "metadata": {},
   "outputs": [],
   "source": [
    "def clean_tweets(text):\n",
    "    text = text.lower()\n",
    "    text = re.sub(\"@[A-Za-z0-9_]+\",\"\", text)\n",
    "    text = re.sub(\"#[A-Za-z0-9_]+\",\"\", text)\n",
    "    text = re.sub(r\"http\\S+\", \"\", text)\n",
    "    text = re.sub(r\"www.\\S+\", \"\", text)\n",
    "    text = re.sub('[()!?]', ' ', text)\n",
    "    text = re.sub('\\[.*?\\]',' ', text)\n",
    "    text = re.sub(\"[^a-z0-9]\",\" \", text)\n",
    "    return text\n",
    "\n",
    "df['clean_text'] = df['text'].apply(clean_tweets)\n",
    "df = df.drop('text',axis=1)"
   ]
  },
  {
   "attachments": {},
   "cell_type": "markdown",
   "metadata": {},
   "source": [
    "Important Note:\n",
    "\n",
    "* IF 'user_mentions' > 1, then that means they mentioned someone else other than the original tweet poster in their reply. This is indicative of spam\n",
    "* The default number is 1 here, because it's counting the reply '@original_tweeter'(reply text)\n",
    "* IF 'linked_urls' > 0, that means they have linked something in their reply. Also indicative of a spam reply\n",
    "* Expect lower time to respond to be indicative of spam, as many of these accounts are automated using the twitter API\n",
    "* Strangely, it seems that people are buying older twitter accounts to spam reply with, as it makes it harder to detect as spam if the account\n",
    "has been around for a while"
   ]
  },
  {
   "cell_type": "code",
   "execution_count": 44,
   "metadata": {},
   "outputs": [
    {
     "data": {
      "text/html": [
       "<div>\n",
       "<style scoped>\n",
       "    .dataframe tbody tr th:only-of-type {\n",
       "        vertical-align: middle;\n",
       "    }\n",
       "\n",
       "    .dataframe tbody tr th {\n",
       "        vertical-align: top;\n",
       "    }\n",
       "\n",
       "    .dataframe thead th {\n",
       "        text-align: right;\n",
       "    }\n",
       "</style>\n",
       "<table border=\"1\" class=\"dataframe\">\n",
       "  <thead>\n",
       "    <tr style=\"text-align: right;\">\n",
       "      <th></th>\n",
       "      <th>screen_name</th>\n",
       "      <th>followers</th>\n",
       "      <th>following</th>\n",
       "      <th>verified</th>\n",
       "      <th>tweet_count</th>\n",
       "      <th>default_prof_img</th>\n",
       "      <th>user_mentions</th>\n",
       "      <th>linked_urls</th>\n",
       "      <th>has_hashtag</th>\n",
       "      <th>time_to_respond_minutes</th>\n",
       "      <th>account_age_days</th>\n",
       "      <th>follwers_to_following_ratio</th>\n",
       "      <th>avg_tweets_per_day</th>\n",
       "      <th>clean_text</th>\n",
       "    </tr>\n",
       "  </thead>\n",
       "  <tbody>\n",
       "    <tr>\n",
       "      <th>0</th>\n",
       "      <td>hexorangutan</td>\n",
       "      <td>1397</td>\n",
       "      <td>286</td>\n",
       "      <td>False</td>\n",
       "      <td>23273</td>\n",
       "      <td>False</td>\n",
       "      <td>1</td>\n",
       "      <td>0</td>\n",
       "      <td>no</td>\n",
       "      <td>168.0</td>\n",
       "      <td>1316.0</td>\n",
       "      <td>4.88</td>\n",
       "      <td>17.68</td>\n",
       "      <td>good</td>\n",
       "    </tr>\n",
       "    <tr>\n",
       "      <th>1</th>\n",
       "      <td>MannyMVK</td>\n",
       "      <td>681</td>\n",
       "      <td>1404</td>\n",
       "      <td>False</td>\n",
       "      <td>9574</td>\n",
       "      <td>False</td>\n",
       "      <td>1</td>\n",
       "      <td>1</td>\n",
       "      <td>no</td>\n",
       "      <td>162.0</td>\n",
       "      <td>1552.0</td>\n",
       "      <td>0.49</td>\n",
       "      <td>6.17</td>\n",
       "      <td>you want followers who do not actively join t...</td>\n",
       "    </tr>\n",
       "    <tr>\n",
       "      <th>2</th>\n",
       "      <td>CryptoJeffS</td>\n",
       "      <td>1093</td>\n",
       "      <td>2072</td>\n",
       "      <td>False</td>\n",
       "      <td>25928</td>\n",
       "      <td>False</td>\n",
       "      <td>1</td>\n",
       "      <td>0</td>\n",
       "      <td>no</td>\n",
       "      <td>83.0</td>\n",
       "      <td>1786.0</td>\n",
       "      <td>0.53</td>\n",
       "      <td>14.52</td>\n",
       "      <td>this should be done randomly at least twice a...</td>\n",
       "    </tr>\n",
       "    <tr>\n",
       "      <th>3</th>\n",
       "      <td>CryptoPvZ</td>\n",
       "      <td>88</td>\n",
       "      <td>165</td>\n",
       "      <td>False</td>\n",
       "      <td>2214</td>\n",
       "      <td>False</td>\n",
       "      <td>2</td>\n",
       "      <td>0</td>\n",
       "      <td>no</td>\n",
       "      <td>68.0</td>\n",
       "      <td>361.0</td>\n",
       "      <td>0.53</td>\n",
       "      <td>6.13</td>\n",
       "      <td>it s almost time to get into  kevin just like...</td>\n",
       "    </tr>\n",
       "  </tbody>\n",
       "</table>\n",
       "</div>"
      ],
      "text/plain": [
       "    screen_name  followers  following  verified  tweet_count  \\\n",
       "0  hexorangutan       1397        286     False        23273   \n",
       "1      MannyMVK        681       1404     False         9574   \n",
       "2   CryptoJeffS       1093       2072     False        25928   \n",
       "3     CryptoPvZ         88        165     False         2214   \n",
       "\n",
       "   default_prof_img  user_mentions  linked_urls has_hashtag  \\\n",
       "0             False              1            0          no   \n",
       "1             False              1            1          no   \n",
       "2             False              1            0          no   \n",
       "3             False              2            0          no   \n",
       "\n",
       "   time_to_respond_minutes  account_age_days  follwers_to_following_ratio  \\\n",
       "0                    168.0            1316.0                         4.88   \n",
       "1                    162.0            1552.0                         0.49   \n",
       "2                     83.0            1786.0                         0.53   \n",
       "3                     68.0             361.0                         0.53   \n",
       "\n",
       "   avg_tweets_per_day                                         clean_text  \n",
       "0               17.68                                             good    \n",
       "1                6.17   you want followers who do not actively join t...  \n",
       "2               14.52   this should be done randomly at least twice a...  \n",
       "3                6.13   it s almost time to get into  kevin just like...  "
      ]
     },
     "execution_count": 44,
     "metadata": {},
     "output_type": "execute_result"
    }
   ],
   "source": [
    "df.head()"
   ]
  },
  {
   "attachments": {},
   "cell_type": "markdown",
   "metadata": {},
   "source": [
    "## Writing to an Excel file, so we can gather as many entries as possible, before making a ML model:"
   ]
  },
  {
   "cell_type": "code",
   "execution_count": null,
   "metadata": {},
   "outputs": [],
   "source": [
    "import pandas as pd\n",
    "\n",
    "with pd.ExcelWriter('Twitter_data.xlsx', mode= 'a', engine='openpyxl', if_sheet_exists='new') as writer:\n",
    "    df.to_excel(writer)"
   ]
  },
  {
   "cell_type": "code",
   "execution_count": null,
   "metadata": {},
   "outputs": [],
   "source": [
    "for i in range(len(replies)):\n",
    "    print(f\"Tweet {i}: {replies[i].full_text}\")"
   ]
  }
 ],
 "metadata": {
  "kernelspec": {
   "display_name": "dev",
   "language": "python",
   "name": "python3"
  },
  "language_info": {
   "codemirror_mode": {
    "name": "ipython",
    "version": 3
   },
   "file_extension": ".py",
   "mimetype": "text/x-python",
   "name": "python",
   "nbconvert_exporter": "python",
   "pygments_lexer": "ipython3",
   "version": "3.7.13"
  },
  "orig_nbformat": 4
 },
 "nbformat": 4,
 "nbformat_minor": 2
}
